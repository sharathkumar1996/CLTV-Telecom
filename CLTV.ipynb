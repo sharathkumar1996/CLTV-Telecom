{
  "cells": [
    {
      "cell_type": "markdown",
      "metadata": {
        "id": "PwFoZzSQarCU"
      },
      "source": [
        "# **ML Project for Customer Lifetime Value Prediction in Telecom**"
      ]
    },
    {
      "cell_type": "markdown",
      "metadata": {
        "id": "zl-lo3LGarCY"
      },
      "source": [
        "## **Business Overview**\n",
        "\n",
        "Customer Lifetime Value (CLTV) is a crucial metric that measures the total revenue a customer is expected to generate during their relationship with a company. CLTV is an important metric for telecom companies because it helps them understand the value of their customer base and make strategic decisions about customer acquisition and retention.\n",
        "\n",
        "This Project is part of the \"telecom data\" cluster of projects, targeting the telecom industry. It is recommended to go through the [\"Exploratory Data Analysis\"](https://www.projectpro.io/data-science-use-cases/telecom-data-analysis-project) notebook before executing this project to understand the Data better. \n",
        "\n",
        "CLTV analysis enables companies to identify high-value customers, develop personalized retention strategies, and allocate marketing resources accordingly. It also helps companies optimize their sales and pricing strategies, improve customer satisfaction, and reduce churn rate.\n",
        "\n",
        "It enables companies to identify high-value customers and focus their marketing and sales efforts on retaining these customers. This, in turn, leads to a reduction in customer churn rate and an increase in customer loyalty.\n",
        "CLTV analysis helps companies optimize their pricing strategies by identifying which services are most valuable to customers. Companies can then adjust their pricing strategies accordingly to maximize revenue and profitability.\n",
        "It also helps companies improve their overall customer satisfaction levels by identifying the factors that are most important to customers. Companies can then focus on improving these areas to ensure customer satisfaction and loyalty.\n",
        "\n",
        "![image.png](https://images.unsplash.com/photo-1559526324-4b87b5e36e44?ixlib=rb-4.0.3&ixid=MnwxMjA3fDB8MHxwaG90by1wYWdlfHx8fGVufDB8fHx8&auto=format&fit=crop&w=1171&q=80)\n",
        "\n",
        "CLTV can be perceived differently for revenue, customer churn, loyalty and retention. Each approach provides a different perspective on customer value and helps companies understand the different factors that impact customer lifetime.\n",
        "\n",
        "In this project, we will be exploring different CLTV calculation methods, and analyzing feature importance to determine the most influential factors on CLTV.\n",
        "We will also be identifying high-value customers based on their CLTV scores, analyzing their characteristics and behavior, and providing suggestions for targeted marketing and retention strategies.\n",
        "\n"
      ]
    },
    {
      "cell_type": "markdown",
      "metadata": {
        "id": "q-yVtXJZarCZ"
      },
      "source": [
        "## **Approach**\n",
        "\n",
        "* Introduction\n",
        "    * Brief overview of the project\n",
        "\n",
        "* Data Processing\n",
        "\n",
        "* Exploratory data analysis (EDA)\n",
        "  * ARPU Analysis\n",
        "  * Customer Lifetime Analysis\n",
        "    \n",
        "* Customer Lifetime Value\n",
        "    * Overview of different CLTV calculation methods (e.g., historical, predictive, probabilistic, etc)\n",
        "    * CLTV Calculation: Historical Data\n",
        "    * Rule Based Customer Segmentation\n",
        "    * Analyzing customers for each perspective, i.e. customer churn, loyalty, and retention\n",
        "  \n",
        "* Feature Importance\n",
        "    * Identification of important services affecting CLTV\n",
        "    * Correlation analysis to measure the impact of various factors on CLTV\n",
        "    \n",
        "* High-Value Customer Identification \n",
        "    * Identification of high-value customers based on CLTV scores\n",
        "    * Analysis of their characteristics and behavior\n",
        "    * Suggestions for targeted marketing, retention strategies\n",
        "    \n",
        "\n",
        "\n",
        "* Project Summary"
      ]
    },
    {
      "cell_type": "markdown",
      "metadata": {
        "id": "XQBMbIQ0arCa"
      },
      "source": [
        "## **Learning Outcomes**\n",
        "\n",
        "* Understanding the importance of customer lifetime value (CLTV) in business and how it can be calculated using different methods.\n",
        "\n",
        "* Learning the steps involved in data processing and exploratory data analysis (EDA) to gain insights.\n",
        "\n",
        "* Understanding the importance of metrics such as ARPU, churn rate, and CLTV.\n",
        "\n",
        "* Learning how to use data visualization techniques to gain insights into customer behavior and identify patterns and trends.\n",
        "\n",
        "* Understanding how to use statistical tests such as t-tests to compare different customer segments and metrics.\n",
        "\n",
        "* Applying the historical data method to calculate CLTV.\n",
        "\n",
        "* Learning how to identify high-value customers and analyze their behavior to suggest targeted marketing and retention strategies.\n",
        "\n",
        "* Gaining experience in rule-based customer segmentation and how it can be used to improve business outcomes.\n"
      ]
    },
    {
      "cell_type": "markdown",
      "metadata": {
        "id": "1vvZd9usarCa"
      },
      "source": [
        "## **Prerequisites**\n",
        "\n",
        "* Familiarity with Python programming language\n",
        "\n",
        "* Familiarity with Pandas, sklearn, numpy libraries in Python, along with concepts like loops, lists, arrays and dataframe.\n",
        "\n",
        "* You should have a fundamental understanding of data analysis techniques and their applications in solving business problems. This includes descriptive statistics, data visualization, and statistical inference."
      ]
    },
    {
      "cell_type": "markdown",
      "metadata": {
        "id": "fq4EApEiarCb"
      },
      "source": [
        "## **Execution Instructions**"
      ]
    },
    {
      "cell_type": "markdown",
      "metadata": {
        "id": "xWemsvUMarCb"
      },
      "source": [
        "<details>\n",
        "    <summary>Click here to view more</summary>\n",
        "\n",
        "\n",
        "### **Installation and Setup for IPYNB**\n",
        "\n",
        "For the best experience, please stay connected to the internet while executing this Project\n",
        "\n",
        "#### **Running an IPYNB on Google Colab**:\n",
        "\n",
        "* Open the [Google Colab website](https://colab.research.google.com/).\n",
        "* Click on the \"New Notebook\" button.\n",
        "* Click the \"File\" menu in the new notebook and choose \"Upload notebook.\"\n",
        "* Select the IPYNB file(notebooks/telco_data_analysis.ipynb) you want to upload.\n",
        "* Once the file is uploaded, click on the \"Runtime\" menu and choose \"Run all\" to execute all the cells in the notebook.\n",
        "* Alternatively, you can execute each cell individually by clicking the \"Play\" button next to the cell OR by pressing `\"shift” + \"enter\"`.\n",
        "* The Default version of Python that Colab uses currently is 3.8\n",
        "\n",
        "#### **Python setup steps for Local Machine**:\n",
        "* If you're using a local machine and do not have Python installed, follow these steps to set up Python:\n",
        "* Download and install the latest version of Python from the official Python website: https://www.python.org/downloads/.\n",
        "* Once the installation is complete, open a command prompt/terminal and type the following command to check if Python is installed `python –-version`\n",
        "* If Python is installed, the version number will be displayed.\n",
        "* This Project has been created using **Python version 3.8.10**\n",
        "\n",
        "#### **Setting up a Python Virtual Environment on Windows**\n",
        "\n",
        "* Open a command prompt by pressing `Windows Key + R`, type `cmd`, and press `Enter`.\n",
        "* Navigate to the directory where you want to create the virtual environment.\n",
        "* Install virtualenv by running the command in the command prompt `pip install virtualenv`\n",
        "* Create a new virtual environment by running the command `virtualenv env`\n",
        "* This will create a new directory called `env`, containing the virtual environment.\n",
        "* Activate the virtual environment by running the command `env\\Scripts\\activate`\n",
        "* You can now install packages and work on your project within this virtual environment.\n",
        "* To deactivate the virtual environment, simply run the command `deactivate`\n",
        "\n",
        "#### **Setting up a Python Virtual Environment on Mac**\n",
        "\n",
        "* Open the Terminal by pressing `Command + Spacebar`, type `Terminal`, and press `Enter`.\n",
        "* Navigate to the directory where you want to create the virtual environment.\n",
        "* Install virtualenv by running the following command in the terminal `pip install virtualenv`\n",
        "* Create a new virtual environment by running the following command `virtualenv env`\n",
        "* This will create a new directory called `env`, containing the virtual environment.\n",
        "* Activate the virtual environment by running the following command `source env/bin/activate`\n",
        "* You can now install packages and work on your project within this virtual environment.\n",
        "* To deactivate the virtual environment, simply run the following command `deactivate`\n",
        "\n",
        "#### **Setting up a Python Virtual Environment on Linux**\n",
        "\n",
        "* Open the Terminal by pressing `Ctrl + Alt + T`.\n",
        "* Navigate to the directory where you want to create the virtual environment.\n",
        "* Install `virtualenv` by running the following command in the terminal `sudo apt-get install python3-virtualenv`\n",
        "* Create a new virtual environment by running the following command `virtualenv -p python3 env`\n",
        "* This will create a new directory called `env`, containing the virtual environment.\n",
        "* Activate the virtual environment by running the following command `source env/bin/activate`\n",
        "* You can now install packages and work on your project within this virtual environment.\n",
        "* To deactivate the virtual environment, simply run the following command `deactivate`\n",
        "\n",
        "#### **Installing Jupyter with pip**\n",
        "If pip is installed on your local machine, you can install Jupyter. \n",
        "\n",
        "Here are the steps:\n",
        "* Open the command prompt (Windows) or terminal (Mac/Linux).\n",
        "* Install Jupyter with pip by running the following command `pip install jupyter`\n",
        "* Launch Jupyter Notebook by running the following command `jupyter notebook`\n",
        "\n",
        "#### **Installing Jupyter with Conda**\n",
        "\n",
        "* Download and install Anaconda from the official website: https://www.anaconda.com/products/individual.\n",
        "* Open the Anaconda Navigator App and launch Jupyter Notebook \n",
        "* Running IPYNB in Jupyter Notebook\n",
        "* Open Terminal / Command Prompt and Navigate to the notebooks directory using cd\n",
        "* Launch Jupyter Notebook by running the following command jupyter notebook\n",
        "* This will open a browser window displaying the Jupyter interface.\n",
        "* Click on the IPYNB file you want to open.\n",
        "* To execute all the cells in the notebook, click on the \"Cell\" menu and choose \"Run all\".\n",
        "* Alternatively, you can execute each cell individually by clicking on the \"Play\" button next to the cell.\n",
        "\n",
        "\n",
        "\n",
        "# Executing the project via Modular Code\n",
        "1. Install the dependencies using the command, navigate to the **ML Project for Customer Lifetime Value Prediction in Telecom** directory where the requirements.txt file exists, and run ***pip install -r requirements.txt*** in the terminal/CMD.\n",
        "2. Run the jupyter notebook \"CLTV.ipynb\" present in the notebooks folder.\n",
        "\n",
        "3. Note: As this is a data analysis project, the analysis work is primarily done in the Jupyter notebook. Therefore, we have not created separate modular source codes for this project. Please use the project structure to run the codes in the Jupyter notebook accordingly.\n",
        "    \n",
        "\n",
        "![CLTV-project structure.png](data:image/png;base64,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)\n",
        "\n",
        "\n",
        "\n",
        "\n",
        "\t\n"
      ]
    },
    {
      "cell_type": "markdown",
      "metadata": {
        "id": "1Ulm7__tarCd"
      },
      "source": [
        "## **Important Libraries**\n",
        " \n",
        "* **pandas**: pandas is a fast, powerful, flexible, and easy-to-use open-source data analysis and manipulation tool built on top of the Python programming language. Refer to [documentation](https://pandas.pydata.org/) for more information.\n",
        " \n",
        "* **NumPy**: The fundamental package for scientific computing with Python. Fast and versatile, the NumPy vectorization, indexing, and broadcasting concepts are the de-facto standards of array computing today. NumPy offers comprehensive mathematical functions, random number generators, linear algebra routines, Fourier transforms, and more. Refer to [documentation](https://numpy.org/) for more information. pandas and NumPy are together used for most of the data analysis and manipulation in Python.\n",
        "\n",
        "* **Matplotlib**: Matplotlib is a comprehensive library for creating static, animated, and interactive visualizations in Python. Refer to [documentation](https://matplotlib.org/) for more information.\n",
        " \n",
        "* **seaborn**: Seaborn is a Python data visualization library based on matplotlib. It provides a high-level interface for drawing attractive and informative statistical graphics. Refer to [documentation](https://seaborn.pydata.org/) for more information.\n",
        "\n",
        "\n",
        "* **scipy**: Scipy is an open-source scientific computing library for the Python programming language. It provides a wide range of functionalities for numerical integration, optimization, interpolation, linear algebra, statistics, signal processing, and more.\n",
        "Scipy is built on top of the NumPy library and provides many additional features that make it a powerful tool for scientific computing. Refer to [documentation](https://docs.scipy.org/doc/scipy/) for more information.\n",
        "\n",
        "* **Warnings**:The warnings library provides a way to handle warnings that are generated during program execution. Warnings are typically issued when there is a potential issue with code, but the code still runs without errors. The warnings module provides a way to catch these warnings and handle them in a way that is appropriate for the program. This can be especially useful when developing and debugging code, as warnings can help identify potential issues before they become errors.\n",
        "\n"
      ]
    },
    {
      "cell_type": "markdown",
      "metadata": {
        "id": "AqQaNDFaarCd"
      },
      "source": [
        "## **Package Requirements**"
      ]
    },
    {
      "cell_type": "code",
      "execution_count": null,
      "metadata": {
        "id": "_zmGMHh5arCe"
      },
      "outputs": [],
      "source": [
        "# using warnings module to ignore warnings\n",
        "import warnings\n",
        "warnings.filterwarnings('ignore')"
      ]
    },
    {
      "cell_type": "code",
      "execution_count": null,
      "metadata": {
        "id": "XDI06QpZarCf"
      },
      "outputs": [],
      "source": [
        "# Developed and Tested on Python=3.8.10\n",
        "!pip install pandas==1.5.3\n",
        "!pip install numpy==1.24.2\n",
        "!pip install matplotlib==3.7.1\n",
        "!pip install seaborn==0.12.2\n",
        "!pip install scipy==1.10.1\n",
        "!pip install projectpro --upgrade"
      ]
    },
    {
      "cell_type": "markdown",
      "metadata": {
        "id": "QiTUsVh8klg8"
      },
      "source": [
        "After package installation, kindly restart the runtime if needed."
      ]
    },
    {
      "cell_type": "code",
      "execution_count": null,
      "metadata": {
        "id": "wUZBH0w_arCf"
      },
      "outputs": [],
      "source": [
        "# Import Libraries\n",
        "import pandas as pd\n",
        "import numpy as np\n",
        "\n",
        "# sets the maximum number of columns that will be displayed in a dataframe to 200 for improved data viewing\n",
        "pd.set_option('display.max_columns', 200)\n",
        "# EDA\n",
        "import matplotlib.pyplot as plt\n",
        "import seaborn as sns\n",
        "from scipy.stats import ttest_ind\n",
        "\n",
        "from projectpro import checkpoint, mo_distance, preserve, save_point, feedback, show_video\n",
        "checkpoint(\"fcTel4\")"
      ]
    },
    {
      "attachments": {},
      "cell_type": "markdown",
      "metadata": {},
      "source": [
        "## **Introductory Video**"
      ]
    },
    {
      "cell_type": "code",
      "execution_count": 13,
      "metadata": {},
      "outputs": [
        {
          "data": {
            "text/html": [
              "\n",
              "        <div align=\"center\">\n",
              "        <iframe width=\"100%\" height=\"500\"\n",
              "        src=\"https://youtube.com/embed/knhA3g3pGOo\"\n",
              "        </iframe>\n",
              "        </div>\n",
              "    "
            ],
            "text/plain": [
              "<IPython.core.display.HTML object>"
            ]
          },
          "execution_count": 13,
          "metadata": {},
          "output_type": "execute_result"
        }
      ],
      "source": [
        "# Introductory Video\n",
        "show_video(\"knhA3g3pGOo\")"
      ]
    },
    {
      "cell_type": "markdown",
      "metadata": {
        "id": "q2j9qRigarCh"
      },
      "source": [
        "## **Data Reading from Different Sources**"
      ]
    },
    {
      "cell_type": "markdown",
      "metadata": {
        "id": "xiCRIOf0arCh"
      },
      "source": [
        "<details>\n",
        "    <summary>Click here to view more</summary>\n",
        "\n",
        "\n",
        "### **Files**\n",
        "\n",
        "In many cases, the data is stored in the local system. To read the data from the local system, specify the correct path and filename.\n",
        "\n",
        "### **CSV Format**\n",
        "Comma-separated values, also known as CSV, is a specific way to store data in a table structure format. The data used in this project is stored in a CSV file. Download the data for the project.\n",
        "\n",
        "\n",
        "Use following code to read data from csv file using pandas. \n",
        "```\n",
        "import pandas as pd\n",
        "csv_file_path= \"D:/ProjectPro/ML Project for Customer Lifetime Value Prediction in Telecom/data/Telecom_Data.csv\"\n",
        "df = pd.read_csv(csv_file_path)\n",
        "```\n",
        "With appropriate csv_file_path, pd.read_csv() function will read the data and store it in df variable.\n",
        " \n",
        "If you get *FileNotFoundError or No such file or directory*, try checking the path provided in the function. It's possible that python is not able to find the file or directory at a given location.\n",
        "\n",
        "\n",
        "### **Colab - CSV Format**\n",
        "\n",
        "```\n",
        "# mount the google drive\n",
        "from google.colab import drive\n",
        "drive.mount('/content/drive')\n",
        "csv_file_path= '/content/drive/MyDrive/project_pro/ML Project for Customer Lifetime Value Prediction in Telecom/Telecom_Data.csv'\n",
        "df = pd.read_csv(csv_file_path)\n",
        "```\n",
        "\n",
        "### **AWS S3 - CSV**\n",
        "Use the S3 public link to read the CSV file directly into a pandas DataFrame\n",
        "```\n",
        "s3_link = 'https://s3.amazonaws.com/projex.dezyre.com/customer-lifetime-value-prediction-in-telecommunications/materials/Telecom_Data.csv'\n",
        "df = pd.read_csv(s3_link)\n",
        "```\n",
        "\n",
        "### **Database**\n",
        "Most organizations store their data in databases such as MS SQL. Microsoft SQL Server (MS SQL) is a relational database management system developed by Microsoft. A BAK file in Microsoft SQL Server is a backup file that contains a copy of a SQL Server database at a specific point in time. It is essentially a binary representation of the database and includes all its data, tables, schema, indexes, stored procedures, and other objects.\n",
        "\n",
        "#### **Installing MS SQL Management Studio**\n",
        "To install Microsoft SQL Server Management Studio, you can follow these steps:\n",
        "\n",
        "* Go to the Microsoft SQL Server Downloads page (https://www.microsoft.com/en-us/sql-server/sql-server-downloads) and click on the \"Download now\" button for the version of SQL Server Management Studio that you want to install.\n",
        "* Follow the instructions on the screen to download the installation file to your computer.\n",
        "* Once the download is complete, locate the installation file and double-click on it to start the installation process.\n",
        "\n",
        "\n",
        "#### **Restore a BAK file in MS SQL**\n",
        "\n",
        "* Open SQL Server Management Studio and connect to the SQL Server instance to which you want to upload the BAK file.\n",
        "* Right-click on the Databases folder in the Object Explorer pane and select \"Restore Database...\" from the context menu.\n",
        "* In the \"Restore Database\" dialog box, select the \"Device\" option under the \"Source\" section.\n",
        "* Click on the \"...\" button to open the \"Select backup devices\" dialog box.\n",
        "In the \"Select backup devices\" dialog box, click on the \"Add\" button to add the BAK file that you want to upload.\n",
        "* In the \"Locate Backup File\" dialog box, browse to the location where the BAK file is stored in the Telecom Data Analysis Project to Improve Service Quality directory under the ‘data’ folder, select the file, and click on the \"OK\" button.\n",
        "* Back in the \"Select backup devices\" dialog box, the BAK file you added should now be listed under \"Backup media:\".\n",
        "* Click on the \"OK\" button to close the \"Select backup devices\" dialog box.\n",
        "In the \"Restore Database\" dialog box, you should see the BAK file listed in the \"Backup sets to restore\" section.\n",
        "* By default, the original database name and file locations from the BAK file will be used. If you want to restore the database with a different name or to a different location, you can modify the \"To database\" and \"Restore as\" options under the \"General\" section.\n",
        "* Click the \"Options\" tab for additional restore options.\n",
        "* If you want to overwrite an existing database with the same name, you can select the \"Overwrite the existing database (WITH REPLACE)\" option under the \"Restore options\" section.\n",
        "* Click on the \"OK\" button to start the restore process.\n",
        "* Once the restore process is complete, you should see a message indicating that the restore was successful.\n",
        "\n",
        "#### **Read Data from DB to Python**\n",
        " The data can be accessed by secret credentials, which will be in the following format.\n",
        "```\n",
        "import pyodbc\n",
        "import pandas as pd\n",
        "connection = pyodbc.connect('DRIVER={ODBC Driver 17 for SQL Server};\\\n",
        "                       SERVER=server_name;\\\n",
        "                       PORT=1433;\\\n",
        "                       DATABASE=database_name;\\\n",
        "                       UID=admin;\\\n",
        "                       PWD=password')\n",
        "```\n",
        "#### **Steps to install ODBC driver**\n",
        "* Go to the Microsoft Download Center page for the ODBC Driver 17 for SQL Server: https://www.microsoft.com/en-us/download/details.aspx?id=56567\n",
        "* Select the download button that corresponds to the operating system you are using.\n",
        "* Select the language you want to use for the installer, then click the download button.\n",
        "* Once the download is complete, run the installer.\n",
        "* Accept the license terms, then select the features you want to install.\n",
        "Choose a location to install the driver, or use the default location.\n",
        "* Complete the installation process by following the instructions provided by the installer.\n",
        "* Once the installation is complete, you can use the ODBC Driver 17 for SQL Server to connect to SQL Server databases from applications that support ODBC connectivity.\n",
        "\n",
        "#### **Query to read the data into Pandas**\n",
        "\n",
        "```\n",
        "query = '''select * from Processed_month_1_data\n",
        "           UNION ALL\n",
        "            select * from Processed_month_2_data\n",
        "            UNION ALL\n",
        "            select * from Processed_month_3_data\n",
        "            UNION ALL\n",
        "            select * from Processed_month_4_data\n",
        "            UNION ALL\n",
        "            select * from Processed_month_5_data\n",
        "            UNION ALL\n",
        "            select * from Processed_month_6_data\n",
        "            UNION ALL\n",
        "            select * from Processed_month_7_data\n",
        "            UNION ALL\n",
        "            select * from Processed_month_8_data\n",
        "            UNION ALL\n",
        "            select * from Processed_month_9_data\n",
        "            UNION ALL\n",
        "            select * from Processed_month_10_data\n",
        "            UNION ALL\n",
        "            select * from Processed_month_11_data\n",
        "            UNION ALL\n",
        "            select * from Processed_month_12_data\n",
        "            UNION ALL\n",
        "            select * from Processed_month_13_data\n",
        "            UNION ALL\n",
        "            select * from Processed_month_14_data'''\n",
        "processed_data = pd.read_sql(query,connection)\n",
        "processed_data.head()\n",
        "\n",
        "```\n"
      ]
    },
    {
      "cell_type": "markdown",
      "metadata": {
        "id": "_63imrv8arCi"
      },
      "source": [
        "## **Data Exploration**\n",
        "\n",
        "Data exploration is a critical step in the data analysis process, where you examine the dataset to gain a preliminary understanding of the data, detect patterns, and identify potential issues that may need further investigation. Data exploration is important because it helps to provide a solid foundation for subsequent data analysis tasks, hypothesis testing and data visualization.\n",
        "\n",
        "Data exploration is also important because it can help you to identify an appropriate approach for analyzing the data.\n",
        "\n",
        "Here are the various functions that help us explore and understand the data.\n",
        "\n",
        "* Shape: Shape is used to identify the dimensions of the dataset. It gives the number of rows and columns present in the dataset. Knowing the dimensions of the dataset is important to understand the amount of data available for analysis and to determine the feasibility of different methods of analysis.\n",
        "\n",
        "* Head: The head function is used to display the top five rows of the dataset. It helps us to understand the structure and organization of the dataset. This function gives an idea of what data is present in the dataset, what the column headers are, and how the data is organized.\n",
        "\n",
        "* Tail: The tail function is used to display the bottom five rows of the dataset. It provides the same information as the head function but for the bottom rows. The tail function is particularly useful when dealing with large datasets, as it can be time-consuming to scroll through all the rows.\n",
        "\n",
        "* Describe: The describe function provides a summary of the numerical columns in the dataset. It includes the count, mean, standard deviation, minimum, and maximum values, as well as the quartiles. It helps to understand the distribution of the data, the presence of any outliers, and potential issues that can affect the model's accuracy.\n",
        "\n",
        "* Isnull: The isnull function is used to identify missing values in the dataset. It returns a Boolean value for each cell, indicating whether it is null or not. This function is useful to identify the presence of missing data, which can be problematic for regression analysis.\n",
        "\n",
        "* Dropna: The dropna function is used to remove rows or columns with missing data. It is used to remove any observations or variables with missing data, which can lead to biased results in the regression analysis. The dropna function is used after identifying the missing data with the isnull function.\n",
        "\n",
        "* Columns: The .columns method is a built-in function that is used to display the column names of a pandas DataFrame or Series. It returns an array-like object that contains the names of the columns in the order in which they appear in the original DataFrame or Series. It can be used to obtain a quick overview of the variables in a dataset and their names."
      ]
    },
    {
      "cell_type": "code",
      "execution_count": null,
      "metadata": {
        "id": "ERJLoPhNarCi"
      },
      "outputs": [],
      "source": [
        "# Data Reading\n",
        "df = pd.read_csv(\"https://s3.amazonaws.com/projex.dezyre.com/customer-lifetime-value-prediction-in-telecommunications/materials/Telecom_Data.csv\")"
      ]
    },
    {
      "cell_type": "code",
      "execution_count": null,
      "metadata": {
        "colab": {
          "base_uri": "https://localhost:8080/",
          "height": 443
        },
        "id": "_PJNEYTZarCi",
        "outputId": "423115ff-566e-4f38-b441-131948f67a42"
      },
      "outputs": [],
      "source": [
        "# Head \n",
        "df.head()"
      ]
    },
    {
      "cell_type": "code",
      "execution_count": null,
      "metadata": {
        "colab": {
          "base_uri": "https://localhost:8080/"
        },
        "id": "3ujRGpptarCj",
        "outputId": "78614b29-8fc4-4eeb-e9e4-c82037b32909"
      },
      "outputs": [],
      "source": [
        "# Information on nulls and dtypes\n",
        "df.info()"
      ]
    },
    {
      "cell_type": "code",
      "execution_count": null,
      "metadata": {
        "colab": {
          "base_uri": "https://localhost:8080/"
        },
        "id": "0HRC4cE6arCj",
        "outputId": "cb09f3cb-6708-4771-c8a1-b0e228ae9e39"
      },
      "outputs": [],
      "source": [
        "# All the columns\n",
        "df.columns"
      ]
    },
    {
      "cell_type": "markdown",
      "metadata": {
        "id": "bGZRqmZWarCj"
      },
      "source": [
        "## **Data Dictionary**\n",
        "\n",
        "Exploratory Data Analysis (EDA) is a crucial step in any data-driven project, especially when working with datasets that are unfamiliar. In such cases, it is essential to understand the characteristics of the data, identify patterns and trends, and uncover insights that may be hidden in the data. Through EDA, we can discover the problems our customers face and the areas in which we can improve our services.\n",
        "\n",
        "To conduct EDA, we need to have a clear understanding of the variables in our dataset, and that is where a data dictionary comes in handy.\n",
        "\n",
        "| Column name\t | Description|\n",
        "| ----- | ----- |\n",
        "| Customer ID\t | Unique identifier for each customer |\n",
        "| Month | Calendar Month- 1:12 | \n",
        "| Month of Joining |\tCalender Month -1:14, Month for which the data is captured|\n",
        "| zip_code |\tZip Code|\n",
        "|Gender |\tGender|\n",
        "| Age |\tAge(Years)|\n",
        "| Married |\tMarital Status |\n",
        "|Dependents | Dependents - Binary |\n",
        "| Number of Dependents |\tNumber of Dependents|\n",
        "|Location ID |\tLocation ID|\n",
        "|Service ID\t |Service ID|\n",
        "|state|\tState|\n",
        "|county\t|County|\n",
        "|timezone\t|Timezone|\n",
        "|area_codes|\tArea Code|\n",
        "|country\t|Country|\n",
        "|latitude|\tLatitude|\n",
        "|longitude\t|Longitude|\n",
        "|arpu|\tAverage revenue per user|\n",
        "|roam_ic\t|Roaming incoming calls in minutes|\n",
        "|roam_og\t|Roaming outgoing calls in minutes|\n",
        "|loc_og_t2t|\tLocal outgoing calls within same network in minutes|\n",
        "|loc_og_t2m\t|Local outgoing calls outside network in minutes(outside same + partner network)|\n",
        "|loc_og_t2f|\tLocal outgoing calls with Partner network in minutes|\n",
        "|loc_og_t2c\t|Local outgoing calls with Call Center in minutes|\n",
        "|std_og_t2t|\tSTD outgoing calls within same network in minutes|\n",
        "|std_og_t2m|\tSTD outgoing calls outside network in minutes(outside same + partner network)|\n",
        "|std_og_t2f|\tSTD outgoing calls with Partner network in minutes|\n",
        "|std_og_t2c\t|STD outgoing calls with Call Center in minutes|\n",
        "|isd_og|\tISD Outgoing calls|\n",
        "|spl_og\t|Special Outgoing calls|\n",
        "|og_others|\tOther Outgoing Calls|\n",
        "|loc_ic_t2t|\tLocal incoming calls within same network in minutes|\n",
        "|loc_ic_t2m|\tLocal incoming calls outside network in minutes(outside same + partner network)|\n",
        "|loc_ic_t2f\t|Local incoming calls with Partner network in minutes|\n",
        "|std_ic_t2t\t|STD incoming calls within same network in minutes|\n",
        "|std_ic_t2m\t|STD incoming calls outside network in minutes(outside same + partner network)|\n",
        "|std_ic_t2f|\tSTD incoming calls with Partner network in minutes|\n",
        "|std_ic_t2o|\tSTD incoming calls operators other networks in minutes|\n",
        "|spl_ic|\tSpecial Incoming calls in minutes|\n",
        "|isd_ic|\tISD Incoming calls in minutes|\n",
        "|ic_others|\tOther Incoming Calls|\n",
        "|total_rech_amt|\tTotal Recharge Amount in Local Currency|\n",
        "|total_rech_data|\tTotal Recharge Amount for Data in Local Currency\n",
        "|vol_4g|\t4G Internet Used in GB|\n",
        "|vol_5g|\t5G Internet used in GB|\n",
        "|arpu_5g|\tAverage revenue per user over 5G network|\n",
        "|arpu_4g|\tAverage revenue per user over 4G network|\n",
        "|night_pck_user|\tIs Night Pack User(Specific Scheme)|\n",
        "|fb_user|\tSocial Networking scheme|\n",
        "|aug_vbc_5g|\tVolume Based cost for 5G network (outside the scheme paid based on extra usage)|\n",
        "|offer|\tOffer Given to User|\n",
        "|Referred a Friend|\tReferred a Friend : Binary|\n",
        "|Number of Referrals|\tNumber of Referrals|\n",
        "|Phone Service|\tPhone Service: Binary|\n",
        "|Multiple Lines|\tMultiple Lines for phone service: Binary|\n",
        "|Internet Service|\tInternet Service: Binary|\n",
        "|Internet Type|\tInternet Type|\n",
        "|Streaming Data Consumption|\tStreaming Data Consumption|\n",
        "|Online Security|\tOnline Security|\n",
        "|Online Backup|\tOnline Backup|\n",
        "|Device Protection Plan|\tDevice Protection Plan|\n",
        "|Premium Tech Support|\tPremium Tech Support|\n",
        "|Streaming TV|\tStreaming TV|\n",
        "|Streaming Movies|\tStreaming Movies|\n",
        "|Streaming Music|\tStreaming Music|\n",
        "|Unlimited Data|\tUnlimited Data|\n",
        "|Payment Method|\tPayment Method|\n",
        "|Status ID|\tStatus ID|\n",
        "|Satisfaction Score|\tSatisfaction Score|\n",
        "|Churn Category|\tChurn Category|\n",
        "|Churn Reason|\tChurn Reason|\n",
        "|Customer Status|\tCustomer Status|\n",
        "|Churn Value|\tBinary Churn Value\n",
        "\n"
      ]
    },
    {
      "cell_type": "code",
      "execution_count": null,
      "metadata": {
        "colab": {
          "base_uri": "https://localhost:8080/"
        },
        "id": "fWX4benrarCk",
        "outputId": "ab923bba-4172-4e41-be81-3e3bd372587c"
      },
      "outputs": [],
      "source": [
        "# Null values in total recharge data\n",
        "df['total_rech_data'].isna().sum()"
      ]
    },
    {
      "cell_type": "code",
      "execution_count": null,
      "metadata": {
        "colab": {
          "base_uri": "https://localhost:8080/"
        },
        "id": "-vIRWKHkarCk",
        "outputId": "ba52797b-ee1b-4c9b-be09-bbed0f0893f4"
      },
      "outputs": [],
      "source": [
        "# Null values in Internet Type\n",
        "df['Internet Type'].isna().sum()"
      ]
    },
    {
      "cell_type": "code",
      "execution_count": null,
      "metadata": {
        "colab": {
          "base_uri": "https://localhost:8080/"
        },
        "id": "qj1Gw_VIarCo",
        "outputId": "d9e0c7a4-6efd-4687-dbaf-302901fc3d00"
      },
      "outputs": [],
      "source": [
        "# Missing value percentage\n",
        "df['total_rech_data'].isna().sum()/df.shape[0]"
      ]
    },
    {
      "cell_type": "markdown",
      "metadata": {
        "id": "a8JsbTU5arCp"
      },
      "source": [
        "**Observation:**\n",
        "\n",
        "*  These missing values may represent customers who have not recharged their account or have recharged but the information has not been recorded.\n",
        "\n",
        "* It is possible that customers with missing recharge data are those who received free data service, and therefore did not need to recharge their account. Alternatively, it is possible that the missing values are due to technical issues, such as data recording errors or system failures."
      ]
    },
    {
      "cell_type": "code",
      "execution_count": null,
      "metadata": {
        "colab": {
          "base_uri": "https://localhost:8080/"
        },
        "id": "0XzR2SAHarCp",
        "outputId": "e84bded8-c387-4022-f3e2-65b22b5e957d"
      },
      "outputs": [],
      "source": [
        "# Checking the value counts of Internet Service where total recharge data was null\n",
        "df[df['total_rech_data'].isna()]['Internet Service'].value_counts(dropna=False)"
      ]
    },
    {
      "cell_type": "markdown",
      "metadata": {
        "id": "V_iR2FoyarCp"
      },
      "source": [
        "**Observation**:\n",
        "\n",
        "* It turns out that all customers with missing recharge data have opted for internet service, the next step could be to check if they have used it or not."
      ]
    },
    {
      "cell_type": "code",
      "execution_count": null,
      "metadata": {
        "colab": {
          "base_uri": "https://localhost:8080/"
        },
        "id": "ky_xKkkjarCp",
        "outputId": "6639ce2e-b586-4049-ee37-538bb32210a6"
      },
      "outputs": [],
      "source": [
        "# Let's check unlimited data column\n",
        "df[(df['total_rech_data'].isna())]['Unlimited Data'].value_counts()"
      ]
    },
    {
      "cell_type": "code",
      "execution_count": null,
      "metadata": {
        "colab": {
          "base_uri": "https://localhost:8080/"
        },
        "id": "sn5-KXtKarCp",
        "outputId": "4b9fe049-2d0f-4c64-8bc1-036d63755ed7"
      },
      "outputs": [],
      "source": [
        "# Lets check Average Revenue for 4g and 5g\n",
        "df[(df['total_rech_data'].isna())][['arpu_4g','arpu_5g']].value_counts()"
      ]
    },
    {
      "cell_type": "markdown",
      "metadata": {
        "id": "l-XuViT9arCq"
      },
      "source": [
        "**Observation**:\n",
        "\n",
        "* We can fill the missing values in the total_rech_data column with 0 when the arpu (Average Revenue Per User) is not applicable. This is because the arpu is a measure of the revenue generated per user, and if it is not applicable, it may indicate that the user is not generating any revenue for the company. In such cases, it is reasonable to assume that the total recharge amount is 0."
      ]
    },
    {
      "cell_type": "code",
      "execution_count": null,
      "metadata": {
        "colab": {
          "base_uri": "https://localhost:8080/"
        },
        "id": "VKfokv1OarCq",
        "outputId": "99060008-3d12-414e-82e8-6489fe029d5c"
      },
      "outputs": [],
      "source": [
        "# Check the value counts of ARPU 4g and 5g\n",
        "df[['arpu_4g','arpu_5g']].value_counts()"
      ]
    },
    {
      "cell_type": "code",
      "execution_count": null,
      "metadata": {
        "id": "Uzrmi7V_arCq"
      },
      "outputs": [],
      "source": [
        "# Replacing all values of total recharge data= 0 where arpu 4g and 5g are not applicable\n",
        "df.loc[(df['arpu_4g']=='Not Applicable') | (df['arpu_5g']=='Not Applicable'),'total_rech_data']=0"
      ]
    },
    {
      "cell_type": "code",
      "execution_count": null,
      "metadata": {
        "colab": {
          "base_uri": "https://localhost:8080/"
        },
        "id": "0Et-ji3sarCq",
        "outputId": "4521da0e-e9f5-47ba-fa3e-9188a5c590e4"
      },
      "outputs": [],
      "source": [
        "# Missing value percentage\n",
        "df['total_rech_data'].isna().sum()/df.shape[0]"
      ]
    },
    {
      "cell_type": "markdown",
      "metadata": {
        "id": "DS0fa8BwarCq"
      },
      "source": [
        "We cannot fill other values with 0 because they have some ARPU to consider."
      ]
    },
    {
      "cell_type": "code",
      "execution_count": null,
      "metadata": {
        "colab": {
          "base_uri": "https://localhost:8080/"
        },
        "id": "jh4MlOFyarCr",
        "outputId": "1b289dcb-bf38-474d-f7e1-505c3438e072"
      },
      "outputs": [],
      "source": [
        "# Calculate the mean of 'total_rech_data' where either 'arpu_4g' or 'arpu_5g' is not equal to 'Not Applicable'\n",
        "df.loc[(df['arpu_4g']!='Not Applicable') | (df['arpu_5g']!='Not Applicable'),'total_rech_data'].mean()"
      ]
    },
    {
      "cell_type": "markdown",
      "metadata": {
        "id": "4roHj-2QarCr"
      },
      "source": [
        "With this mean, we will fill the NaN values."
      ]
    },
    {
      "cell_type": "code",
      "execution_count": null,
      "metadata": {
        "id": "dZckwmUXarCr"
      },
      "outputs": [],
      "source": [
        "# Fill NaN values in 'total_rech_data' with the mean of 'total_rech_data' where either 'arpu_4g' or 'arpu_5g' is not equal to 'Not Applicable'\n",
        "df['total_rech_data']=df['total_rech_data'].fillna(df.loc[(df['arpu_4g']!='Not Applicable') | (df['arpu_5g']!='Not Applicable'),'total_rech_data'].mean())"
      ]
    },
    {
      "cell_type": "code",
      "execution_count": null,
      "metadata": {
        "colab": {
          "base_uri": "https://localhost:8080/"
        },
        "id": "MOp6kZmKarCr",
        "outputId": "1d1c2f73-e6d6-4909-8ba5-0a27675de6a1"
      },
      "outputs": [],
      "source": [
        "# Check the value counts for Internet Type\n",
        "df['Internet Type'].value_counts(dropna=False)"
      ]
    },
    {
      "cell_type": "code",
      "execution_count": null,
      "metadata": {
        "colab": {
          "base_uri": "https://localhost:8080/"
        },
        "id": "mqheSeqtarCr",
        "outputId": "81cdf0e8-ca26-43a8-a22e-0c93f2f94443"
      },
      "outputs": [],
      "source": [
        "# Check value counts for Internet Service where Internet Type is null\n",
        "df[df['Internet Type'].isna()]['Internet Service'].value_counts(dropna=False)"
      ]
    },
    {
      "cell_type": "markdown",
      "metadata": {
        "id": "6joy_RbZarCr"
      },
      "source": [
        "All null values in Internet Type does not have Internet Service. Let's fill these null values with Not Applicable."
      ]
    },
    {
      "cell_type": "code",
      "execution_count": null,
      "metadata": {
        "id": "UonYO7E0arCs"
      },
      "outputs": [],
      "source": [
        "# Filling Null values in Internet Type \n",
        "df['Internet Type']=df['Internet Type'].fillna('Not Applicable')"
      ]
    },
    {
      "cell_type": "code",
      "execution_count": null,
      "metadata": {
        "colab": {
          "base_uri": "https://localhost:8080/"
        },
        "id": "s0YP2iwiarCs",
        "outputId": "530ad3c3-0b04-4c68-aa1e-068fe3e76b33"
      },
      "outputs": [],
      "source": [
        "# Shape of the dataframe\n",
        "df.shape"
      ]
    },
    {
      "cell_type": "code",
      "execution_count": null,
      "metadata": {
        "id": "3J_iUuwmarCs"
      },
      "outputs": [],
      "source": [
        "# Insert a new column named 'total_recharge' before the last column in the dataframe \n",
        "# The values of 'total_recharge' are the sum of 'total_rech_amt' and 'total_rech_data'\n",
        "df.insert(loc=df.shape[1]-1,column='total_recharge',value=df['total_rech_amt']+df['total_rech_data'])"
      ]
    },
    {
      "cell_type": "code",
      "execution_count": null,
      "metadata": {
        "colab": {
          "base_uri": "https://localhost:8080/",
          "height": 423
        },
        "id": "AV5sfqquarCs",
        "outputId": "490f42e1-ab3e-4c02-c377-7459899e79b9"
      },
      "outputs": [],
      "source": [
        "# Checking percent of missing values in columns\n",
        "df_missing_columns = (round(((df.isnull().sum()/len(df.index))*100),2).to_frame('null')).sort_values('null', ascending=False)\n",
        "df_missing_columns"
      ]
    },
    {
      "cell_type": "markdown",
      "metadata": {
        "id": "7pKTbzNiarCs"
      },
      "source": [
        "Let's drop some unnecessary columns!"
      ]
    },
    {
      "cell_type": "code",
      "execution_count": null,
      "metadata": {
        "id": "lstss1EJarCs"
      },
      "outputs": [],
      "source": [
        "# Dropping columns\n",
        "df=df.drop(columns=['night_pck_user', 'fb_user', 'Customer Status'])"
      ]
    },
    {
      "cell_type": "markdown",
      "metadata": {
        "id": "aBrceuBDarCs"
      },
      "source": [
        "Replace 'Not Applicable' with 0 in both 'arpu_4g' and 'arpu_5g'."
      ]
    },
    {
      "cell_type": "code",
      "execution_count": null,
      "metadata": {
        "id": "sJlhx2PAarCt"
      },
      "outputs": [],
      "source": [
        "# Replace 'Not Applicable' with 0 in 'arpu_4g'\n",
        "df['arpu_4g'] = df['arpu_4g'].replace('Not Applicable', 0)\n",
        "\n",
        "# Replace 'Not Applicable' with 0 in 'arpu_5g'\n",
        "df['arpu_5g'] = df['arpu_5g'].replace('Not Applicable', 0)\n",
        "\n",
        "# Convert 'arpu_4g' to float data type\n",
        "df['arpu_4g'] = df['arpu_4g'].astype(float)\n",
        "\n",
        "# Convert 'arpu_5g' to float data type\n",
        "df['arpu_5g'] = df['arpu_5g'].astype(float)\n"
      ]
    },
    {
      "cell_type": "code",
      "execution_count": null,
      "metadata": {
        "colab": {
          "base_uri": "https://localhost:8080/"
        },
        "id": "qMwC00M7arCt",
        "outputId": "acb9ef33-abb2-43ca-cec9-0c6bf223cec3"
      },
      "outputs": [],
      "source": [
        "# Check the data types\n",
        "df.dtypes"
      ]
    },
    {
      "cell_type": "code",
      "execution_count": null,
      "metadata": {
        "id": "_xZRPT-iarCt"
      },
      "outputs": [],
      "source": [
        "# List of continuous columns\n",
        "cts_cols=['Age','Number of Dependents',\n",
        "       'roam_ic', 'roam_og', 'loc_og_t2t',\n",
        "       'loc_og_t2m', 'loc_og_t2f', 'loc_og_t2c', 'std_og_t2t', 'std_og_t2m',\n",
        "       'std_og_t2f', 'std_og_t2c', 'isd_og', 'spl_og', 'og_others',\n",
        "       'loc_ic_t2t', 'loc_ic_t2m', 'loc_ic_t2f', 'std_ic_t2t', 'std_ic_t2m',\n",
        "       'std_ic_t2f', 'std_ic_t2o', 'spl_ic', 'isd_ic', 'ic_others',\n",
        "       'total_rech_amt', 'total_rech_data', 'vol_4g', 'vol_5g', 'arpu_5g',\n",
        "       'arpu_4g', 'arpu', 'aug_vbc_5g', 'Number of Referrals','Satisfaction Score',\n",
        "       'Streaming Data Consumption']   \n",
        "\n"
      ]
    },
    {
      "cell_type": "markdown",
      "metadata": {
        "id": "FrDyUDHuarCt"
      },
      "source": [
        "### **Outlier Detection**:\n",
        "\n",
        "Outlier detection is a critical data analysis technique that involves identifying and removing data points that are significantly different from the rest of the data. Outliers are data points that lie far away from the rest of the data, and they can significantly influence the statistical analysis and machine learning models' performance. Therefore, identifying and removing outliers is essential to ensure accurate and reliable data analysis results.\n",
        "\n",
        "There are two main approaches for outlier detection: parametric and non-parametric.\n",
        "\n",
        "* Parametric Methods:\n",
        "Parametric methods assume that the data follows a specific distribution, such as a normal distribution. In this approach, outliers are identified by calculating the distance of each data point from the mean of the distribution in terms of the number of standard deviations. Data points that are beyond a certain number of standard deviations (usually three or more) are considered as outliers.\n",
        "\n",
        "One common parametric method is the Z-score method, which calculates the distance of each data point from the mean in terms of standard deviations.\n",
        "Parametric methods can be useful when the data follows a known distribution, but they may not be effective when the data is not normally distributed.\n",
        "\n",
        "* Non-Parametric Methods:\n",
        "Non-parametric methods do not assume any specific distribution of the data. Instead, they rely on the rank or order of the data points. In this approach, outliers are identified by comparing the values of each data point with the values of other data points. Data points that are significantly different from other data points are considered as outliers.\n",
        "\n",
        "Quantiles are an important concept in non-parametric outlier detection methods. They represent values that divide a dataset into equal-sized parts, such as quarters or thirds. The most commonly used quantiles are the median (which divides the data into two equal parts), the first quartile (which divides the data into the lowest 25% and the highest 75%), and the third quartile (which divides the data into the lowest 75% and the highest 25%).\n",
        "\n",
        "The interquartile range (IQR) is another important concept related to quantiles. It is defined as the difference between the third and first quartiles and represents the middle 50% of the data. The IQR can be used to identify outliers by defining a range (known as the Tukey's fence) beyond which any data points are considered outliers.\n",
        "Non-parametric methods can be useful when the data is not normally distributed or when the distribution is unknown."
      ]
    },
    {
      "cell_type": "code",
      "execution_count": null,
      "metadata": {
        "id": "Oq1uqJSzarCt"
      },
      "outputs": [],
      "source": [
        "# Create an empty dataframe with columns as cts_cols and index as quantiles\n",
        "quantile_df=pd.DataFrame(columns=cts_cols,index=[0.1,0.25,0.5,0.75,0.8,0.9,0.95,0.97,0.99])\n",
        "mo_distance(\"fcTel4\")\n",
        "# for each column in cts_cols, calculate the corresponding quantiles and store them in the quantile_df\n",
        "for col in cts_cols:\n",
        "   quantile_df[col]=df[col].quantile([0.1,0.25,0.5,0.75,0.8,0.9,0.95,0.97,0.99])"
      ]
    },
    {
      "cell_type": "markdown",
      "metadata": {
        "id": "t0nebTLqarCt"
      },
      "source": [
        "By calculating quantiles for each continuous variable in the dataset, we are trying to get an idea about the spread and distribution of the data. Specifically, we are interested in identifying potential outliers in the data.\n",
        "\n",
        "Quantiles divide a distribution into equal proportions. For instance, the 0.25 quantile is the value below which 25% of the observations fall and the 0.75 quantile is the value below which 75% of the observations fall. By calculating quantiles at various levels, we can get a better understanding of the distribution of the data and identify any observations that are too far away from the rest of the data.\n",
        "\n",
        "These quantiles can be used as thresholds to identify potential outliers in the data. Observations with values beyond these thresholds can be considered as potential outliers and further investigation can be carried out to determine if they are true outliers or not."
      ]
    },
    {
      "cell_type": "code",
      "execution_count": null,
      "metadata": {
        "colab": {
          "base_uri": "https://localhost:8080/",
          "height": 430
        },
        "id": "M9XxfHAZarCu",
        "outputId": "b6db528f-b491-44ad-eb10-3c152e788e53"
      },
      "outputs": [],
      "source": [
        "# Let's check out the quantiles df\n",
        "quantile_df"
      ]
    },
    {
      "cell_type": "markdown",
      "metadata": {
        "id": "-HAkjIFharC0"
      },
      "source": [
        "Outliers were detected in the variables vol_5g, arpu_4g, and arpu_5g."
      ]
    },
    {
      "cell_type": "code",
      "execution_count": null,
      "metadata": {
        "colab": {
          "base_uri": "https://localhost:8080/"
        },
        "id": "UnFZSep5arC0",
        "outputId": "ed1998ab-7d53-4bb9-eaea-9413a68ff0f9"
      },
      "outputs": [],
      "source": [
        "# Checking further\n",
        "df['arpu_4g'].quantile([0.75,0.8,0.9,0.95,0.97,0.99,0.999])"
      ]
    },
    {
      "cell_type": "code",
      "execution_count": null,
      "metadata": {
        "colab": {
          "base_uri": "https://localhost:8080/"
        },
        "id": "96HGhcvXarC0",
        "outputId": "554ba79d-5478-406c-e800-b86459195def"
      },
      "outputs": [],
      "source": [
        "# Calculate the proportion of rows in the DataFrame where the value in the 'arpu_4g' column is equal to 254687\n",
        "df[df['arpu_4g']==254687].shape[0]/df.shape[0]"
      ]
    },
    {
      "cell_type": "code",
      "execution_count": null,
      "metadata": {
        "colab": {
          "base_uri": "https://localhost:8080/",
          "height": 765
        },
        "id": "8kZSIzC3arC0",
        "outputId": "c9cc01f5-f4d9-43b0-a7c8-d9a10635ca26"
      },
      "outputs": [],
      "source": [
        "# Let's check it out\n",
        "df[df['arpu_4g']==254687]"
      ]
    },
    {
      "cell_type": "markdown",
      "metadata": {
        "id": "3U5s56zgarC1"
      },
      "source": [
        "Let's see what is the value of 'total_rech_data' for these observations."
      ]
    },
    {
      "cell_type": "code",
      "execution_count": null,
      "metadata": {
        "colab": {
          "base_uri": "https://localhost:8080/"
        },
        "id": "RpM8HS4parC1",
        "outputId": "d0aaf1a8-04b3-4ffd-ab5e-0cd6eff1226b"
      },
      "outputs": [],
      "source": [
        "# Get the value counts of 'total_rech_data' for observations where the value in the 'arpu_4g' column is equal to 254687\n",
        "df[df['arpu_4g']==254687]['total_rech_data'].value_counts()"
      ]
    },
    {
      "cell_type": "markdown",
      "metadata": {
        "id": "VvL6DmE9arC1"
      },
      "source": [
        "Now, since the recharge amount is 0 and there is no ARPU, let's replace it with 0."
      ]
    },
    {
      "cell_type": "code",
      "execution_count": null,
      "metadata": {
        "id": "gTfh535earC1"
      },
      "outputs": [],
      "source": [
        "# Replace the outlier value 254687 in the 'arpu_4g' column of the dataframe 'df' with 0.\n",
        "df['arpu_4g']=df['arpu_4g'].replace(254687,0)\n"
      ]
    },
    {
      "cell_type": "code",
      "execution_count": null,
      "metadata": {
        "colab": {
          "base_uri": "https://localhost:8080/"
        },
        "id": "JVyTsBZ2arC1",
        "outputId": "0168c951-85f3-403e-8aab-93a5b953e483"
      },
      "outputs": [],
      "source": [
        "# Checking further\n",
        "df['arpu_4g'].quantile([0.75,0.8,0.9,0.95,0.97,0.99,0.999])"
      ]
    },
    {
      "cell_type": "code",
      "execution_count": null,
      "metadata": {
        "colab": {
          "base_uri": "https://localhost:8080/"
        },
        "id": "ByDOEL-warC2",
        "outputId": "5b612200-b550-4daf-9631-c99bf4c2863a"
      },
      "outputs": [],
      "source": [
        "# Filter by 'arpu_4g' value of 87978 and count unique values in 'total_rech_data' column\n",
        "df[df['arpu_4g']==87978]['total_rech_data'].value_counts()"
      ]
    },
    {
      "cell_type": "markdown",
      "metadata": {
        "id": "sGVHSGkiarC2"
      },
      "source": [
        "All rows in the dataframe with an 'arpu_4g' value of 87978 have 0 value in the 'total_rech_data' column, indicating that these are likely outliers. Therefore, we have decided to replace the 'arpu_4g' value for these rows with 0."
      ]
    },
    {
      "cell_type": "code",
      "execution_count": null,
      "metadata": {
        "id": "UEDd-Yv0arC2"
      },
      "outputs": [],
      "source": [
        "# Replace the values with 0\n",
        "df['arpu_4g']=df['arpu_4g'].replace(87978,0)"
      ]
    },
    {
      "cell_type": "code",
      "execution_count": null,
      "metadata": {
        "colab": {
          "base_uri": "https://localhost:8080/"
        },
        "id": "yECZBf6ZarC2",
        "outputId": "2469fa35-9711-4ad4-e131-ad3b8fc7e2c1"
      },
      "outputs": [],
      "source": [
        "# Checking the quantiles again\n",
        "df['arpu_4g'].quantile([0.75,0.8,0.9,0.95,0.97,0.99,0.999])"
      ]
    },
    {
      "cell_type": "code",
      "execution_count": null,
      "metadata": {
        "colab": {
          "base_uri": "https://localhost:8080/"
        },
        "id": "2qd1bP_oarC2",
        "outputId": "60c04f58-d461-4a5c-c6b9-34edd52f6bfd"
      },
      "outputs": [],
      "source": [
        "# Check the churn value for this ARPU\n",
        "df[df['arpu_4g']>8000]['Churn Value'].value_counts()"
      ]
    },
    {
      "cell_type": "markdown",
      "metadata": {
        "id": "TliveZPuarC3"
      },
      "source": [
        "**Observation:**\n",
        "\n",
        " * A higher ARPU suggests that a business is generating more revenue per user, which can be a positive sign for the business's profitability. However, a high ARPU can also imply churn, or the rate at which customers are leaving the business.\n",
        "\n",
        "* There are a few reasons why a high ARPU may imply churn. First, if a business is charging a high price for its services, it may attract a customer base that is more price-sensitive and likely to switch to a competitor if they find a better deal. This could result in a higher churn rate for the business."
      ]
    },
    {
      "cell_type": "code",
      "execution_count": null,
      "metadata": {
        "colab": {
          "base_uri": "https://localhost:8080/"
        },
        "id": "2-x4BgEYarC3",
        "outputId": "c9bee7cd-6bcd-4cc7-a1a3-3add89af93a0"
      },
      "outputs": [],
      "source": [
        "# Check the value counts of total recharge data at outlying values\n",
        "df[df['arpu_5g']==254687]['total_rech_data'].value_counts()"
      ]
    },
    {
      "cell_type": "code",
      "execution_count": null,
      "metadata": {
        "colab": {
          "base_uri": "https://localhost:8080/"
        },
        "id": "l0E6VSB_arC3",
        "outputId": "0a1eeaa0-5346-4dbd-ea9b-95f633760cbd"
      },
      "outputs": [],
      "source": [
        "# Check the value counts of total recharge data at outlying values\n",
        "df[df['arpu_5g']==87978]['total_rech_data'].value_counts()"
      ]
    },
    {
      "cell_type": "code",
      "execution_count": null,
      "metadata": {
        "id": "rtMEbyJharC3"
      },
      "outputs": [],
      "source": [
        "# Replacing the values with 0 where total recharge data is 0\n",
        "df['arpu_5g']=df['arpu_5g'].replace([87978,254687],0)"
      ]
    },
    {
      "cell_type": "code",
      "execution_count": null,
      "metadata": {
        "colab": {
          "base_uri": "https://localhost:8080/"
        },
        "id": "5zBs44UFarC3",
        "outputId": "77a624ba-2e36-4410-9baf-5053a090675c"
      },
      "outputs": [],
      "source": [
        "# Check the quantiles of ARPU 5G\n",
        "df['arpu_5g'].quantile([0.75,0.8,0.9,0.95,0.97,0.99,0.999])"
      ]
    },
    {
      "cell_type": "markdown",
      "metadata": {
        "id": "Qu3DXT5varC4"
      },
      "source": [
        "**Assumptions**:\n",
        "\n",
        "To later calculate customer lifetime value (CLTV), we are making several assumptions to simplify the calculation process. \n",
        "\n",
        "* Incoming usage is free: We assume that customers are not charged for incoming calls or messages. This assumption is made because it is difficult to track and measure incoming usage, and because incoming usage is often not a significant source of revenue for telecom companies.\n",
        "\n",
        "* Outgoing to call center is free: We assume that customers are not charged for calls made to the call center. This assumption is made because calls to the call center are typically made to address customer service issues, and charging customers for these calls may discourage them from seeking help when they need it."
      ]
    },
    {
      "cell_type": "code",
      "execution_count": null,
      "metadata": {
        "id": "hrTCUDEParC4"
      },
      "outputs": [],
      "source": [
        "# Assuming incoming is free\n",
        "# We will just keep outgoing and data usage, and premium services columns and assume outgoing to call center is free\n",
        "\n",
        "# Create a new column for total outgoing call usage\n",
        "df['outgoing_call_usage'] = df['roam_og'] + df['loc_og_t2t'] + df['loc_og_t2m'] + df['loc_og_t2f']  + df['std_og_t2t'] + df['std_og_t2m'] + df['std_og_t2f'] + df['isd_og'] + df['spl_og'] + df['og_others']\n",
        "\n",
        "# Create a new column for total data usage\n",
        "df['data_usage'] = df['vol_4g'] + df['vol_5g'] + df['Streaming Data Consumption']\n"
      ]
    },
    {
      "cell_type": "code",
      "execution_count": null,
      "metadata": {
        "id": "CJ2oGyCbarC4"
      },
      "outputs": [],
      "source": [
        "# calculate total arpu for each user in each month\n",
        "df['total_arpu'] = df[['arpu', 'arpu_4g', 'arpu_5g']].sum(axis=1)"
      ]
    },
    {
      "cell_type": "code",
      "execution_count": null,
      "metadata": {
        "colab": {
          "base_uri": "https://localhost:8080/"
        },
        "id": "Y1GlJANVarC4",
        "outputId": "dc152392-bd44-44bf-ef4e-7c1c6905c59e"
      },
      "outputs": [],
      "source": [
        "# Removing after 0.90 , replacing them with group medians\n",
        "df['outgoing_call_usage'].quantile([0.75,0.8,0.9,0.95,0.97,0.99,0.999])"
      ]
    },
    {
      "cell_type": "code",
      "execution_count": null,
      "metadata": {
        "colab": {
          "base_uri": "https://localhost:8080/"
        },
        "id": "krAy9UBaarC4",
        "outputId": "ea63976a-6dd0-4fe3-d18e-1ac057a95c0b"
      },
      "outputs": [],
      "source": [
        "# Removing after 0.90, replacing them with group medians\n",
        "df['data_usage'].quantile([0.75,0.8,0.9,0.95,0.97,0.99,0.999])"
      ]
    },
    {
      "cell_type": "code",
      "execution_count": null,
      "metadata": {
        "colab": {
          "base_uri": "https://localhost:8080/"
        },
        "id": "9PnI9M9GarC4",
        "outputId": "e934a879-c00e-42f3-ad8b-fa0d8c1bd9de"
      },
      "outputs": [],
      "source": [
        "#  Removing after 0.90, replacing them with group medians\n",
        "df['total_arpu'].quantile([0.75,0.8,0.9,0.95,0.97,0.99,0.999])"
      ]
    },
    {
      "cell_type": "code",
      "execution_count": null,
      "metadata": {
        "id": "LNzjx33jarC5"
      },
      "outputs": [],
      "source": [
        "# define the columns to check for outliers\n",
        "cols_to_check = ['outgoing_call_usage', 'data_usage', 'total_arpu']\n",
        "\n",
        "# calculate the upper bound for outlier detection\n",
        "q = 0.90\n",
        "upper_bound = df[cols_to_check].quantile(q)\n",
        "\n",
        "# replace values above the upper bound with NaN\n",
        "df[cols_to_check] = df[cols_to_check].mask(df[cols_to_check] > upper_bound, np.nan)"
      ]
    },
    {
      "cell_type": "code",
      "execution_count": null,
      "metadata": {
        "colab": {
          "base_uri": "https://localhost:8080/"
        },
        "id": "zlrFId_sarC5",
        "outputId": "91630ab9-65e6-4743-d25a-d143dd841077"
      },
      "outputs": [],
      "source": [
        "# Verifying\n",
        "df['data_usage'].quantile([0.75,0.8,0.9,0.95,0.97,0.99,0.999])"
      ]
    },
    {
      "cell_type": "code",
      "execution_count": null,
      "metadata": {
        "id": "F5Nl7nIUarC5"
      },
      "outputs": [],
      "source": [
        "# Fill na\n",
        "df['data_usage'] = df['data_usage'].fillna(df['data_usage'].median())\n",
        "df['outgoing_call_usage'] = df['outgoing_call_usage'].fillna(df['outgoing_call_usage'].median())\n",
        "df['total_arpu'] = df['total_arpu'].fillna(df['total_arpu'].median())"
      ]
    },
    {
      "cell_type": "code",
      "execution_count": null,
      "metadata": {
        "colab": {
          "base_uri": "https://localhost:8080/"
        },
        "id": "3S62gaF0arC5",
        "outputId": "66958655-4801-42cc-8a4d-c4565ad8ac5c"
      },
      "outputs": [],
      "source": [
        "# Verify\n",
        "df[cols_to_check].isnull().sum()"
      ]
    },
    {
      "cell_type": "code",
      "execution_count": null,
      "metadata": {
        "colab": {
          "base_uri": "https://localhost:8080/",
          "height": 343
        },
        "id": "SlvgFaJjarC5",
        "outputId": "db8552df-4f0e-4b74-893c-4db5cbda2250"
      },
      "outputs": [],
      "source": [
        "# Example churned customer\n",
        "df[df['Customer ID'] == \"tqhiqgvbbhley51\"]"
      ]
    },
    {
      "cell_type": "code",
      "execution_count": null,
      "metadata": {
        "id": "MgUGiG10arC5"
      },
      "outputs": [],
      "source": [
        "# Creating a new column called Tenure\n",
        "df['Tenure'] = df['Month']- df['Month of Joining'] + 1"
      ]
    },
    {
      "cell_type": "code",
      "execution_count": null,
      "metadata": {
        "colab": {
          "base_uri": "https://localhost:8080/",
          "height": 346
        },
        "id": "XC4R_V9XarC5",
        "outputId": "04a8ed95-5950-4ccf-981f-f8234413d5b6"
      },
      "outputs": [],
      "source": [
        "# Head\n",
        "df.head(3)"
      ]
    },
    {
      "cell_type": "markdown",
      "metadata": {
        "id": "DWOQeROOarC5"
      },
      "source": [
        "## **Exploratory Data Analysis**\n",
        "\n",
        "Exploratory Data Analysis (EDA) is the process of analyzing and summarizing data to find patterns, relationships, and insights that can help inform business decisions. EDA is an important step in data analysis as it allows us to understand the data and identify potential problems such as outliers, missing values, or data inconsistencies. EDA can involve visualizing data using graphs and charts, calculating summary statistics such as means and medians, and identifying correlations between variables.\n",
        "\n",
        "\n",
        "\n",
        "\n",
        "\n"
      ]
    },
    {
      "cell_type": "markdown",
      "metadata": {
        "id": "LSwXYX7BoEP8"
      },
      "source": [
        "### **ARPU Analysis**\n",
        "\n",
        "ARPU analysis is important in the context of CLTV because it can help identify the most profitable customer segments, which can then be used to calculate the expected future revenue from those customers. CLTV takes into account not only the revenue generated from a customer, but also the costs associated with acquiring and retaining that customer. By understanding which customer segments have a higher ARPU, a company can allocate its resources more effectively to acquire and retain the most profitable customers, thereby increasing their CLTV. Additionally, by analyzing ARPU over time, a company can identify trends in customer spending and adjust its marketing and retention strategies accordingly to maximize CLTV.\n",
        "\n",
        "Regarding the hypotheses related to ARPU analysis:\n",
        "\n",
        "* **The ARPU (Average Revenue Per User) is higher for customers who churned compared to those who did not churn.**\n",
        "To test this hypothesis, we can compare the average ARPU for customers who churned versus those who did not churn. If the average ARPU for churned customers is higher, it suggests that the company may need to improve its customer retention strategies for high-value customers.\n",
        "\n",
        "\n",
        "* **There is a positive correlation between ARPU and the number of services used by customers.**\n",
        "To test this hypothesis, we can calculate the correlation between the number of services used by customers and their ARPU. If there is a positive correlation, it suggests that customers who use more services tend to spend more.\n",
        "\n",
        "* **The ARPU for customers who use online security and backup services is higher than those who do not use these services.**\n",
        "To test this hypothesis, we can compare the average ARPU for customers who use online security and backup services versus those who do not use these services. If the average ARPU for customers who use these services is higher, it suggests that these services are attractive to high-value customers.\n",
        "\n",
        "\n",
        "* **Customers who have a higher satisfaction score tend to have a higher ARPU.**\n",
        "To test this hypothesis, we can calculate the correlation between customer satisfaction scores and their ARPU. If there is a positive correlation, it suggests that customers who are more satisfied tend to spend more. This analysis can help identify the importance of customer satisfaction for increasing revenue.\n",
        "\n",
        "\n"
      ]
    },
    {
      "cell_type": "code",
      "execution_count": null,
      "metadata": {
        "colab": {
          "base_uri": "https://localhost:8080/",
          "height": 404
        },
        "id": "-jPHZxMMarC6",
        "outputId": "434c99c3-3dde-4dbe-c6ad-23e198030792"
      },
      "outputs": [],
      "source": [
        "# Plot\n",
        "plt.figure(figsize=(10,6))\n",
        "plt.hist(df['arpu'], bins=20)\n",
        "plt.title('ARPU Distribution')\n",
        "plt.xlabel('ARPU')\n",
        "plt.show()"
      ]
    },
    {
      "cell_type": "markdown",
      "metadata": {
        "id": "vZbTyKreqnWH"
      },
      "source": [
        "**Observation**:\n",
        "\n",
        "* The distribution of ARPU values is right-skewed, with most values concentrated below 500 which indicates very high ARPU values for a few customers proving our hypotheses.\n",
        "\n",
        "* There are some negative ARPU values, which may be due to refunds. A negative ARPU means that the company is losing money on a per-user basis, rather than making a profit. It is not uncommon for telecom companies to have negative ARPU due to the high costs associated with acquiring and servicing customers.\n",
        "\n"
      ]
    },
    {
      "cell_type": "code",
      "execution_count": null,
      "metadata": {
        "colab": {
          "base_uri": "https://localhost:8080/"
        },
        "id": "HkV-z7YKqtLf",
        "outputId": "b43d4946-ec27-4aa9-eae5-bcd50d2b64e3"
      },
      "outputs": [],
      "source": [
        "# ARPU is negative here.\n",
        "# Lets investigate\n",
        "df.arpu.describe()"
      ]
    },
    {
      "cell_type": "code",
      "execution_count": null,
      "metadata": {
        "colab": {
          "base_uri": "https://localhost:8080/"
        },
        "id": "1ng6u_g-qvk5",
        "outputId": "ba52213c-0f28-41d8-916e-b5eaefb1df05"
      },
      "outputs": [],
      "source": [
        "# Now let us investigate how many people have negative arpu\n",
        "\n",
        "df[df['arpu']<0].shape"
      ]
    },
    {
      "cell_type": "code",
      "execution_count": null,
      "metadata": {
        "colab": {
          "base_uri": "https://localhost:8080/"
        },
        "id": "AqQ6k1rNqy6Z",
        "outputId": "0a5f1ca5-02b8-49fb-cf7c-8026a147c1fe"
      },
      "outputs": [],
      "source": [
        "# Let's calculate the percentage\n",
        "115942/df.shape[0]"
      ]
    },
    {
      "cell_type": "markdown",
      "metadata": {
        "id": "re2NaYc7arC6"
      },
      "source": [
        "**Univarite Data Analysis Observation**:\n",
        "\n",
        "The fact that 17% of the people have negative arpu means that a significant proportion of the customer base is not generating revenue for the telecom company. \n",
        "\n",
        "This could be due to a number of reasons, such as inactive accounts, delinquent accounts, or accounts with outstanding balances. \n",
        "\n",
        "To understand more about this issue, we can investigate other variables that may be related to negative arpu, such as churn status. We can also look at the distribution of negative arpu values across different demographic groups, such as age, gender, and location, to see if there are any patterns or trends. \n",
        "\n",
        "Additionally, we can explore whether there are any correlations between negative arpu and other variables, such as usage patterns, service subscriptions, and customer satisfaction scores to understand what's causing this behaviour.\n",
        "\n",
        "Overall, further investigation is needed to fully understand the implications of negative arpu for the telecom company.\n"
      ]
    },
    {
      "cell_type": "code",
      "execution_count": null,
      "metadata": {
        "colab": {
          "base_uri": "https://localhost:8080/",
          "height": 404
        },
        "id": "kwVmEWctarC6",
        "outputId": "53161acb-17be-4804-88c8-b91b6ec8d9b0"
      },
      "outputs": [],
      "source": [
        "# calculate the percentage of customers with negative ARPU\n",
        "negative_arpu_percentage = (df[df['arpu'] < 0]['arpu'].count() / df.shape[0]) * 100\n",
        "\n",
        "# create a bar plot to visualize the negative ARPU percentage\n",
        "plt.figure(figsize=(10,6))\n",
        "plt.bar(['Negative ARPU', 'Positive ARPU'], [negative_arpu_percentage, 100 - negative_arpu_percentage])\n",
        "plt.title('Percentage of Customers with Negative ARPU')\n",
        "plt.xlabel('ARPU')\n",
        "plt.ylabel('Percentage')\n",
        "plt.show()"
      ]
    },
    {
      "cell_type": "code",
      "execution_count": null,
      "metadata": {
        "colab": {
          "base_uri": "https://localhost:8080/",
          "height": 373
        },
        "id": "W99efJuNarC7",
        "outputId": "60fa54d4-b93d-4f55-ebc1-f33946fc68b0"
      },
      "outputs": [],
      "source": [
        "# the relationship between negative ARPU and churn status\n",
        "churn_negative_arpu = df[df['arpu'] < 0]['Churn Value'].value_counts(normalize=True)\n",
        "\n",
        "# create a pie chart to visualize the churn status of customers with negative ARPU\n",
        "plt.figure(figsize=(10,6))\n",
        "plt.pie(churn_negative_arpu, labels=churn_negative_arpu.index, autopct='%1.1f%%')\n",
        "plt.title('Churn Status of Customers with Negative ARPU')\n",
        "plt.show()"
      ]
    },
    {
      "cell_type": "markdown",
      "metadata": {
        "id": "p_b9IWw-arC7"
      },
      "source": [
        "**Observation**: \n",
        "\n",
        "* 95.2% of customers with negative ARPU did not churn, while only 4.8% of customers with negative ARPU churned.\n",
        "\n",
        "* This suggests that having negative ARPU is not necessarily a strong predictor of churn. However, further analysis is needed to fully understand the relationship between negative ARPU and churn. Other factors, such as usage patterns, service subscriptions, and customer satisfaction, may also play a role in predicting churn.\n",
        "\n",
        "* It's possible that the negative ARPU is a result of money spent by the company to retain customers but negative ARPU could also be a result of other factors, such as accounts that have been inactive for a long time or delinquent accounts with outstanding balances. \n",
        "\n",
        "* Additionally, the 4.8% of customers with negative ARPU who churned may have done so for reasons such as finding a better deal elsewhere."
      ]
    },
    {
      "cell_type": "code",
      "execution_count": null,
      "metadata": {
        "colab": {
          "base_uri": "https://localhost:8080/"
        },
        "id": "fgGP74D3arC7",
        "outputId": "23b80573-fe87-4b39-effa-705d4af7b576"
      },
      "outputs": [],
      "source": [
        "# Lets analyze further\n",
        "\n",
        "negative_arpu_churn = df[(df['arpu'] < 0) & (df['Churn Value'] == 1)]\n",
        "\n",
        "print(\"Number of customers with negative ARPU who churned: \", len(negative_arpu_churn['Customer ID']))\n"
      ]
    },
    {
      "cell_type": "code",
      "execution_count": null,
      "metadata": {
        "colab": {
          "base_uri": "https://localhost:8080/",
          "height": 404
        },
        "id": "ztdsDepCarC7",
        "outputId": "0ec0a1a6-5a96-47cf-f211-dfaa623dff9b"
      },
      "outputs": [],
      "source": [
        "# Plot\n",
        "plt.figure(figsize=(10,6))\n",
        "sns.countplot(x='Satisfaction Score', hue='Churn Value', data=negative_arpu_churn)\n",
        "\n",
        "# Title and label\n",
        "plt.xlabel('Satisfaction Score')\n",
        "plt.ylabel('Count')\n",
        "plt.title('Churn Status by Satisfaction Score')\n",
        "plt.show()"
      ]
    },
    {
      "cell_type": "code",
      "execution_count": null,
      "metadata": {
        "id": "jeCzmFYEarC7"
      },
      "outputs": [],
      "source": [
        "# Define the variables to loop over (premium and other important variables which can have an impact on ARPU as per hypotheses)\n",
        "\n",
        "services = ['Internet Service', 'Online Security', 'Online Backup', 'Device Protection Plan', 'Premium Tech Support',\n",
        "            'Streaming TV', 'Streaming Movies', 'Streaming Music', 'Unlimited Data']"
      ]
    },
    {
      "cell_type": "code",
      "execution_count": null,
      "metadata": {
        "id": "74RB12fDarC7"
      },
      "outputs": [],
      "source": [
        "# Encode data\n",
        "mapping_dict = {'Yes': 1, 'No': 0}\n",
        "for column in services:\n",
        "    # replace 'Yes' and 'No' with 1 and 0\n",
        "    df[column] = df[column].replace(mapping_dict)\n"
      ]
    },
    {
      "cell_type": "code",
      "execution_count": null,
      "metadata": {
        "colab": {
          "base_uri": "https://localhost:8080/"
        },
        "id": "AFQkLUJ0sdoE",
        "outputId": "d7a9a010-5ae6-41d1-895f-16dc30f19c73"
      },
      "outputs": [],
      "source": [
        "# checking data types\n",
        "df[services].info()"
      ]
    },
    {
      "cell_type": "markdown",
      "metadata": {
        "id": "8jPUEzwqsrTK"
      },
      "source": [
        "Unlimited data should be in int data type"
      ]
    },
    {
      "cell_type": "code",
      "execution_count": null,
      "metadata": {
        "colab": {
          "base_uri": "https://localhost:8080/"
        },
        "id": "-WL92Q2OsmPj",
        "outputId": "724e2358-f468-4244-d78d-975adc9b4bee"
      },
      "outputs": [],
      "source": [
        "# Lets check the value counts\n",
        "df['Unlimited Data'].value_counts()"
      ]
    },
    {
      "cell_type": "code",
      "execution_count": null,
      "metadata": {
        "id": "VlLR-BlqtFY1"
      },
      "outputs": [],
      "source": [
        "# replace None and change data type\n",
        "df['Unlimited Data'] = df['Unlimited Data'].replace(\"None\", 0).astype('int64')"
      ]
    },
    {
      "cell_type": "code",
      "execution_count": null,
      "metadata": {
        "id": "qJzB2_ZBrdp4"
      },
      "outputs": [],
      "source": [
        "# Number of services a person uses\n",
        "df['num_services'] = df[services].sum(axis=1)"
      ]
    },
    {
      "cell_type": "code",
      "execution_count": null,
      "metadata": {
        "colab": {
          "base_uri": "https://localhost:8080/",
          "height": 249
        },
        "id": "IcubXXpLsJU6",
        "outputId": "7b9737d4-3c72-435d-ff8c-f9f76a26a69a"
      },
      "outputs": [],
      "source": [
        "# Verify\n",
        "df.head(1)"
      ]
    },
    {
      "cell_type": "markdown",
      "metadata": {
        "id": "fHqA5_VKxbNo"
      },
      "source": [
        "#### **Correlation**\n",
        "\n",
        "Correlation coefficient is used to measure the strength of relationship between two variables. It indicates that as the value of one variable changes the other variable changes in a specific direction with some magnitude. There are various ways to find correlation between two variables, one of which is Pearson correlation coefficient.\n",
        "It measures the linear relationship between two continuous variables.\n",
        " \n",
        "Let's say $x$ and $y$ are two continuous variables, the Pearson correlation coefficient between them can be found by the following formula.\n",
        " \n",
        " \n",
        "$$r = \\frac{ \\sum_{i=1}^{n}(x_i-\\bar{x})(y_i-\\bar{y}) }{%\n",
        "        \\sqrt{\\sum_{i=1}^{n}(x_i-\\bar{x})^2}\\sqrt{\\sum_{i=1}^{n}(y_i-\\bar{y})^2}}$$\n",
        " \n",
        "where $x_i$ and $y_i$ represents the $i^{th}$ value of the variables.\n",
        "The value of $r$ ranges between $-1$ and $+1$.\n",
        " \n",
        "Their strength of relationship is measured by the absolute value of coefficient, whereas the sign of the coefficient indicates the direction of the relationship.\n",
        " \n",
        "\n"
      ]
    },
    {
      "cell_type": "markdown",
      "metadata": {
        "id": "vd_qu2aExfFf"
      },
      "source": [
        "\n",
        "#### **Graphs of Different Correlation Coefficients**\n",
        "![correlation_plots.png](data:image/png;base64,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)\n",
        "\n",
        "1. $r = -1$ indicates a perfect negative relationship between the variables \n",
        "\n",
        "2. $r = 0$ indicates no relationship between the variables\n",
        "\n",
        "3. $r = 1$ indicates a perfect positive relationship between the variables\n",
        "\n"
      ]
    },
    {
      "cell_type": "code",
      "execution_count": null,
      "metadata": {
        "colab": {
          "base_uri": "https://localhost:8080/",
          "height": 391
        },
        "id": "Bqy1AtBBrrzT",
        "outputId": "fa063b66-e258-443d-9639-e0b84747ef07"
      },
      "outputs": [],
      "source": [
        "# Test correlation between number of services and satisfaction score to ARPU\n",
        "correlation = df[['num_services', 'Satisfaction Score', 'total_arpu']].corr()\n",
        "\n",
        "plt.figure(figsize=(10,6))\n",
        "sns.heatmap(correlation, cmap=\"YlGnBu\", annot=True, vmin=-1, vmax=1, center=0)\n",
        "plt.title('Correlation Matrix Heatmap')\n",
        "plt.show()"
      ]
    },
    {
      "cell_type": "markdown",
      "metadata": {
        "id": "Fbgveva7uUJC"
      },
      "source": [
        "**Observations and Insights**\n",
        "\n",
        "Based on the correlation coefficients, there seems to be a weak negative correlation between satisfaction score and ARPU (-0.0081), implying that higher ARPU customers might not necessarily have higher satisfaction scores. On the other hand, there is a weak positive correlation between the number of services used and ARPU (0.16), indicating that customers using more services may have higher ARPU. This proves our hypothesis that number of services is positively correlated to ARPU but rejects the hypothesis that high ARPU customers are satisfied.\n",
        "\n",
        "* Satisfaction Score: The company should not assume that higher-paying customers are more satisfied with their services. It is important to focus on improving customer satisfaction across all customer segments, regardless of their ARPU.\n",
        "\n",
        "* Number of Services Used: The positive correlation between the number of services used and ARPU suggests that the company can increase their revenue by encouraging customers to use more services. The company could offer bundled services or promotions to incentivize customers to use more services."
      ]
    },
    {
      "cell_type": "markdown",
      "metadata": {
        "id": "qVLRzHIcvH8v"
      },
      "source": [
        "#### **T-Tests**\n",
        "A t-test is a statistical hypothesis test that compares the means of two groups. It is commonly used to determine if there is a significant difference between the means of two groups, such as a control group and a treatment group. The test is based on the t-distribution, which is a probability distribution that describes how the means of random samples from a population with a normal distribution are distributed.\n",
        "\n",
        "There are two types of t-tests: the one-sample t-test and the two-sample t-test. The one-sample t-test is used to compare the mean of a sample to a known value, while the two-sample t-test is used to compare the means of two independent samples.\n",
        "\n",
        "To perform a t-test, the first step is to formulate the null and alternative hypotheses. The null hypothesis is that there is no significant difference between the means of the two groups, while the alternative hypothesis is that there is a significant difference between the means of the two groups.\n",
        "\n",
        "The next step is to calculate the test statistic, which is the t-value. This is done by taking the difference between the means of the two groups and dividing it by the standard error of the difference between the means. The standard error is a measure of the variability of the sample means and is calculated using the sample size and the standard deviation of each group.\n",
        "\n",
        "Finally, the t-value is compared to a critical value from the t-distribution based on the degrees of freedom and the significance level chosen. If the calculated t-value is greater than the critical value, the null hypothesis is rejected, and it is concluded that there is a significant difference between the means of the two groups.\n",
        "\n"
      ]
    },
    {
      "cell_type": "code",
      "execution_count": null,
      "metadata": {
        "colab": {
          "base_uri": "https://localhost:8080/"
        },
        "id": "sNwlrL23arC8",
        "outputId": "73c84d64-fcda-4ac4-d025-e2a218074ee7"
      },
      "outputs": [],
      "source": [
        "# Loop over the variables and perform t-tests\n",
        "preserve(\"fcTel4\")\n",
        "for var in services:\n",
        "    group1 = df[df[var]==1]['arpu']\n",
        "    group0 = df[df[var]==0]['arpu']\n",
        "    t, p = ttest_ind(group1, group0, equal_var=False)\n",
        "    if group1.mean() > group0.mean():\n",
        "        print('Variable:', var)\n",
        "        print('Group 1 Mean ARPU:', group1.mean())\n",
        "        print('Group 0 Mean ARPU:', group0.mean())\n",
        "        print('Higher weightage in Group 1')\n",
        "        print('T-Statistic:', t)\n",
        "        print('P-Value:', p, (p < 0.05))\n",
        "        print('-----------------------')\n",
        "    else:\n",
        "        print('Variable:', var)\n",
        "        print('Group 1 Mean ARPU:', group1.mean())\n",
        "        print('Group 0 Mean ARPU:', group0.mean())\n",
        "        print('Higher weightage in Group 0')\n",
        "        print('T-Statistic:', t)\n",
        "        print('P-Value:', p, (p<0.05))\n",
        "        print('-----------------------')"
      ]
    },
    {
      "cell_type": "markdown",
      "metadata": {
        "id": "X9M9mTZIv0zt"
      },
      "source": [
        "All t-tests on the services with ARPU resulted in false significance, it means that there is no statistically **significant** difference in ARPU between customers who use a particular service and those who do not. This implies that offering or not offering a particular service does not have a significant impact on ARPU.\n",
        "\n",
        "However, it is important to note that t-tests have certain assumptions, such as normality and equal variance.\n",
        "\n"
      ]
    },
    {
      "cell_type": "markdown",
      "metadata": {
        "id": "uwvU1Mo4arC8"
      },
      "source": [
        "If you increase the significance level, such as to 0.10, you are allowing for a greater probability of rejecting the null hypothesis when it is actually true. This means that you are more likely to detect a significant difference between the means of the variables being tested, but it also increases the risk of making a Type I error (rejecting the null hypothesis when it is actually true)."
      ]
    },
    {
      "cell_type": "markdown",
      "metadata": {
        "id": "yTf9mM_cw5wx"
      },
      "source": [
        "#### **Pair Plots**\n",
        "\n",
        "Pair plots are a type of visualization that displays the pairwise relationships between variables in a dataset. They are particularly useful in identifying patterns and relationships between multiple variables at once. Pair plots are essentially a grid of scatterplots that show the relationships between each pair of variables in a dataset.\n",
        "\n",
        "Each variable is plotted against every other variable, so the diagonal of the plot shows the distribution of each variable. The off-diagonal plots show the scatterplot of the two variables.\n",
        "\n",
        "Pair plots are helpful in identifying correlations between variables, patterns in the data, and any potential outliers or anomalies. They can also help in identifying which variables are most strongly correlated with the target variable, which can be useful in predictive modeling or feature selection."
      ]
    },
    {
      "cell_type": "code",
      "execution_count": null,
      "metadata": {
        "colab": {
          "base_uri": "https://localhost:8080/",
          "height": 920
        },
        "id": "WS5ZkJ6karC8",
        "outputId": "4d83ef1e-c5a6-45eb-af68-5e9fe1a51176"
      },
      "outputs": [],
      "source": [
        "# Plot\n",
        "plt.figure(figsize=(10,6))\n",
        "sns.pairplot(df[['total_rech_amt', 'total_rech_data', 'arpu_5g', 'arpu_4g', 'arpu']])\n",
        "plt.title('Revenue Data Relationship')\n",
        "plt.show()"
      ]
    },
    {
      "cell_type": "markdown",
      "metadata": {
        "id": "aEE_xrV2ynMB"
      },
      "source": [
        "**Observations**:\n",
        "\n",
        "Based on the pairplot, we can observe that there is a positive correlation between the total recharge amount and ARPU, as well as between the total recharge data and ARPU. This indicates that customers who recharge more frequently and with larger amounts may have higher ARPU.\n",
        "\n"
      ]
    },
    {
      "cell_type": "code",
      "execution_count": null,
      "metadata": {
        "colab": {
          "base_uri": "https://localhost:8080/",
          "height": 391
        },
        "id": "oq9Lz9MtarC8",
        "outputId": "c4b8534e-977a-4126-bf4e-94d080bea3d8"
      },
      "outputs": [],
      "source": [
        "# Plot a correlation heatmap\n",
        "plt.figure(figsize=(10,6))\n",
        "corr_matrix = df[['total_rech_amt', 'total_rech_data', 'arpu_5g', 'arpu_4g', 'arpu']].corr()\n",
        "sns.heatmap(corr_matrix, annot=True, cmap='coolwarm')\n",
        "plt.title('Correlation Matrix Heatmap')\n",
        "plt.show()"
      ]
    },
    {
      "cell_type": "markdown",
      "metadata": {
        "id": "0rPT7QVDarC8"
      },
      "source": [
        "**Observations**:\n",
        "\n",
        "* Total recharge amount and total recharge data have a positive correlation of 0.26, indicating that customers who recharge more tend to use more data.\n",
        "\n",
        "* Total recharge amount and ARPU have a weak positive correlation of 0.035, suggesting that customers who recharge more may have higher ARPU, but the relationship is not very strong.\n",
        "\n",
        "* Total recharge data and ARPU have a very weak positive correlation of 0.038, indicating that there may be a slight relationship between data usage and ARPU, but it is not significant.\n",
        "\n",
        "* ARPU 5G and ARPU 4G have a moderate positive correlation of 0.578, indicating that customers who use 5G and 4G services tend to have similar ARPU levels.\n",
        "\n",
        "* ARPU 5G and total recharge data have a moderate positive correlation of 0.512, indicating that customers who use 5G services tend to use more data.\n",
        "\n",
        "* ARPU 4G and total recharge data also have a moderate positive correlation of 0.541, suggesting that customers who use 4G services tend to use more data.\n",
        "\n",
        "The correlation matrix suggests that there may be some relationships between total recharge amount, total recharge data, and ARPU, but the relationships are not very strong. \n",
        "\n",
        "\n",
        "\n",
        "\n",
        "\n"
      ]
    },
    {
      "cell_type": "markdown",
      "metadata": {
        "id": "2ubS-xdEarC9"
      },
      "source": [
        "### **Customer Lifetime**\n",
        "\n",
        "\n",
        "Customer Lifetime Value (CLTV) is a key metric used by businesses to estimate the total value of a customer over their lifetime with the company. The CLTV metric helps businesses to make data-driven decisions about customer acquisition and retention, and to identify the most valuable customers.\n",
        "\n",
        "One important factor that affects CLTV is the customer lifetime, i.e., how long a customer stays with the company. Customers who stay longer tend to generate more revenue over their lifetime and thus have a higher CLTV. By analyzing customer lifetime, businesses can identify customer segments that have a higher likelihood of staying with the company and those that are at a higher risk of churning. This analysis can help businesses to design customer retention strategies that are specific to different customer segments.\n",
        "\n",
        "**Hypotheses**\n",
        "\n",
        "\n",
        "\n",
        "* **Customers who use more data (4G and 5G) have a higher lifetime value.** Customers who use more data are likely to have a greater need for mobile services and may be willing to pay more for these services. They may also be more likely to stay with the company for a longer period of time since they have a greater investment in the service.\n",
        "\n",
        "* **Customers who have a higher satisfaction score are more likely to have a longer lifetime with the company.** Customers who are more satisfied with the service are likely to have a better overall experience with the company, which can lead to a longer relationship. These customers may also be more likely to recommend the company to others, which can lead to additional revenue.\n",
        "\n",
        "\n",
        "* **Customers who have referred a friend are more likely to have a longer lifetime with the company.** Customers who refer their friends to the company are likely to have a strong emotional connection to the brand and may be more likely to stay with the company as a result. Additionally, these customers may feel a sense of loyalty to the company since they have recommended it to others.\n",
        "\n",
        "* **Customers who have unlimited data plans are more likely to have a longer lifetime with the company.** Customers who have unlimited data plans may feel more secure in their relationship with the company since they know that they will never run out of data. This may lead to a longer relationship with the company since they do not have to worry about constantly monitoring their data usage.\n",
        "\n",
        "* **Customers who use more streaming services (e.g. TV, movies, music) have a higher lifetime value.** Customers who use more streaming services may have a greater need for mobile services and may be willing to pay more for these services. They may also be more likely to stay with the company for a longer period of time since they have a greater investment in the service.\n",
        "\n",
        "* **Customers who have a higher average revenue per user are more likely to have a longer lifetime with the company.** Customers who have a higher average revenue per user are likely to be more invested in the service and may be more likely to stay with the company as a result. Additionally, these customers may feel that they are getting a good value for their money and may be less likely to switch to a competitor."
      ]
    },
    {
      "cell_type": "code",
      "execution_count": null,
      "metadata": {
        "colab": {
          "base_uri": "https://localhost:8080/",
          "height": 404
        },
        "id": "jMB1i8p3arC9",
        "outputId": "f1be1c8d-0487-4a02-e38c-eadaf6ff6ee4"
      },
      "outputs": [],
      "source": [
        "# Customers who use more data are less likely to churn.\n",
        "plt.figure(figsize=(10,6))\n",
        "sns.boxplot(x='Churn Value', y='vol_4g', data=df)\n",
        "plt.title(\"Churn Value and Internet Volume used\")\n",
        "plt.show()"
      ]
    },
    {
      "cell_type": "code",
      "execution_count": null,
      "metadata": {
        "colab": {
          "base_uri": "https://localhost:8080/",
          "height": 404
        },
        "id": "Ao2VpO89arC9",
        "outputId": "787c43b0-ccad-4fef-cc26-04432394cc91"
      },
      "outputs": [],
      "source": [
        "# Customers who have a higher satisfaction score are less likely to churn.\n",
        "plt.figure(figsize=(10,6))\n",
        "sns.boxplot(x='Churn Value', y='Satisfaction Score', data=df)\n",
        "plt.title(\"Satisfaction score and Churn Value\")\n",
        "plt.show()"
      ]
    },
    {
      "cell_type": "code",
      "execution_count": null,
      "metadata": {
        "colab": {
          "base_uri": "https://localhost:8080/",
          "height": 404
        },
        "id": "ei7T-eO1arC9",
        "outputId": "305fcdd5-673a-4393-ef40-ff53c1589108"
      },
      "outputs": [],
      "source": [
        "# Customers who have referred a friend are more likely to have a longer lifetime.\n",
        "plt.figure(figsize=(10,6))\n",
        "sns.boxplot(x='Referred a Friend', y='Month', data=df)\n",
        "plt.title(\"Average Month for People who referred and not referred a friend\")\n",
        "plt.show()"
      ]
    },
    {
      "cell_type": "code",
      "execution_count": null,
      "metadata": {
        "colab": {
          "base_uri": "https://localhost:8080/",
          "height": 404
        },
        "id": "_UreujYlarC-",
        "outputId": "df727ced-d27f-47d2-ca5b-a4873873969b"
      },
      "outputs": [],
      "source": [
        "# Customers who have unlimited data plans are more likely to have a longer lifetime.\n",
        "plt.figure(figsize=(10,6))\n",
        "sns.boxplot(x='Unlimited Data', y='Month', data=df)\n",
        "plt.title(\"Average Month for Unlimied Data Plans\")\n",
        "plt.show()"
      ]
    },
    {
      "cell_type": "code",
      "execution_count": null,
      "metadata": {
        "colab": {
          "base_uri": "https://localhost:8080/",
          "height": 404
        },
        "id": "IPGGeJhNarC-",
        "outputId": "3a95a9ba-30d3-4360-c69d-be122932e46a"
      },
      "outputs": [],
      "source": [
        "# Customers who use more streaming services have a higher lifetime value.\n",
        "plt.figure(figsize=(10,6))\n",
        "sns.barplot(x='Streaming TV', y='Month', data=df)\n",
        "plt.title(\"Average Month for Streaming Service\")\n",
        "plt.show()"
      ]
    },
    {
      "cell_type": "code",
      "execution_count": null,
      "metadata": {
        "colab": {
          "base_uri": "https://localhost:8080/",
          "height": 404
        },
        "id": "zeib5SvO7-3I",
        "outputId": "31487b74-a95c-45f1-f41b-803758a1a4ee"
      },
      "outputs": [],
      "source": [
        "# Box plot for ARPU 4G against churn\n",
        "plt.figure(figsize=(10,6))\n",
        "sns.boxplot(x='Churn Value', y='arpu_4g', data=df)\n",
        "plt.title('ARPU 4G vs Churn')\n",
        "plt.show()"
      ]
    },
    {
      "cell_type": "markdown",
      "metadata": {
        "id": "2xtYuXvE8V9S"
      },
      "source": [
        "**Observations**:\n",
        "\n",
        "* Churned customers generally have lower satisfaction scores compared to non-churned customers, indicating that dissatisfaction may be a driving factor behind customer churn.\n",
        "\n",
        "* The average ARPU (average revenue per user) for 4G services is higher for churned customers than for non-churned customers. This suggests that customers who generate higher revenue may still be at risk of churning, possibly due to issues with the quality of 4G service or customer support.\n",
        "\n",
        "* It would be worth exploring other factors that may contribute to dissatisfaction , such as network coverage, pricing, customer service, and promotions. By addressing these issues, the company may be able to reduce churn rates and improve customer retention."
      ]
    },
    {
      "cell_type": "markdown",
      "metadata": {
        "id": "GgDgKAmW-VwD"
      },
      "source": [
        "## **Customer Lifetime Value**\n",
        "\n",
        "Customer Lifetime Value (CLTV) is a key metric used to measure the total monetary value a customer brings to a business over the entire period of their relationship with the business. In general, there are several ways to calculate CLTV, including revenue-based, profit-based, and customer-based approaches. The revenue-based approach is the most commonly used, and it considers factors such as average revenue per user (ARPU), service cost, and customer lifetime.  The profit-based approach takes into account the net profit generated by a customer, while the customer-based approach looks at the value of a customer based on factors such as customer acquisition cost and retention rate.\n",
        "\n",
        "### **Overview of different CLTV Calculation Methods**\n",
        "\n",
        "* **Historical Method**: This method calculates CLTV based on the past behavior of customers. It involves analyzing the transactional history of customers, including average purchase value, and length of the relationship. The historical method assumes that the customer behavior will remain the same in the future.\n",
        "\n",
        "* **Predictive CLTV**: This method involves using predictive modeling techniques to estimate the future value of customers. Predictive CLTV takes into account various factors such as customer demographics, past behavior, and purchase history. Machine learning algorithms such as regression analysis, decision trees, and neural networks can be used to build predictive models for CLTV. The data we currently are using is not suitable for predictive CLTV because we don't have a labeled CLTV column, and we are calculating it based on other features such as ARPU, service costs, and churn rates. Predictive CLTV requires labeled data, and we need to build a predictive model that can accurately predict the CLTV based on the available features. This would require collecting more data on customer behavior and transactions, which can be used to train a machine learning model to predict CLTV.\n",
        "\n",
        "* **Probabilistic CLTV**: This method uses probability theory to estimate the value of a customer. It takes into account the uncertainty in the future behavior of customers and assigns probabilities to different outcomes. This method is useful when there is a high degree of uncertainty in customer behavior.\n",
        "\n",
        "* **Cohort-based CLTV**: In this approach, customers are grouped based on when they started doing business with the company (e.g., monthly or quarterly cohorts). This allows for a comparison of how different cohorts behave over time, which can inform CLTV calculations. Cohort-based CLTV can provide easier comparisons over the group of people.\n",
        "\n",
        "* **Customer Segmentation CLTV**: This approach groups customers into different segments based on their behavior and demographics, and calculates CLTV separately for each segment. This allows companies to identify the most valuable customer segments and develop tailored marketing strategies.\n"
      ]
    },
    {
      "cell_type": "markdown",
      "metadata": {
        "id": "1UhD3X-sarC-"
      },
      "source": [
        "### **CLTV Calculation: Historical Data**\n",
        "\n",
        "\n",
        "To calculate the revenue-based CLTV for all customers, we need to use historical data to estimate the average revenue per user (ARPU), service cost, and customer lifetime. Once we have these metrics, we can use the following formula to calculate CLTV:\n",
        "\n",
        "$$\\text{Historical CLTV} = \\frac{\\text{ARPU} - \\text{Average service cost per user}}{\\text{Churn rate}}$$\n",
        "\n",
        "The average service cost per user is the average cost of providing services to each user, such as marketing, customer support, and infrastructure costs. The churn rate is the percentage of customers who stop using the company's services over a given period.\n",
        "\n",
        "By using this formula, we can estimate the total value that a customer will generate over their entire relationship with the company based on historical data. \n",
        "\n",
        "**Assumption**:\n",
        "\n",
        "We are assuming a profit margin of average 10%.\n",
        "\n",
        "**Derivation**\n",
        "\n",
        "\n",
        "Since we assume a 10% profit margin, the average service cost per user is equal to 90% of the ARPU:\n",
        "\n",
        "$$\\text{Average service cost per user} = 0.9 \\times \\text{ARPU}$$\n",
        "\n",
        "Substituting the above equation in the formula for historical CLTV, we get:\n",
        "\n",
        "$$\\text{Historical CLTV} = \\frac{\\text{ARPU} - 0.9 \\times \\text{ARPU}}{\\text{Churn rate}} = \\frac{0.1 \\times \\text{ARPU}}{\\text{Churn rate}}$$\n",
        "\n",
        "The customer lifetime can be calculated as the reciprocal of the churn rate:\n",
        "\n",
        "$$\\text{Customer Lifetime} = \\frac{1}{\\text{Churn rate}}$$\n",
        "\n",
        "\n",
        "\n",
        "\n",
        "\n",
        "\n",
        "\n",
        "\n",
        "\n",
        "\n",
        "\n",
        "\n",
        "\n",
        "\n"
      ]
    },
    {
      "cell_type": "markdown",
      "metadata": {
        "id": "u0f1Q8TXarC_"
      },
      "source": [
        "The historical approach can be used to calculate CLTV and use it for different perspectives such as revenue, customer churn, loyalty, and retention.  This can help companies make informed decisions on how to allocate resources and target specific customer segments to maximize their profits and minimize their churn rate."
      ]
    },
    {
      "cell_type": "markdown",
      "metadata": {
        "id": "moN3jg_YHDNI"
      },
      "source": [
        "### **Rule Based Customer Segmentation**\n",
        "\n",
        "\n",
        "Segmenting customers is important while calculating Customer Lifetime Value (CLTV) because different customer segments have different behaviors and values. By segmenting customers, we can identify the most valuable customers and allocate resources to them accordingly, while also developing targeted marketing strategies to retain and increase the value of less valuable customers.\n",
        "\n",
        "For example, high-value customers who make frequent purchases and are loyal to the brand may require personalized attention, incentives, and rewards to maintain their loyalty and increase their lifetime value. On the other hand, low-value customers who make infrequent purchases or are at risk of churning may require targeted campaigns and promotions to re-engage them and improve their value.\n",
        "\n",
        "Segmentation can also help identify opportunities for cross-selling and upselling by analyzing customer behavior, preferences, and purchase history. By understanding the needs and wants of different customer segments, businesses can develop tailored product offerings and marketing messages to increase customer satisfaction and drive revenue growth.\n",
        "\n",
        "\n",
        "\n",
        "Rule-based customer segmentation is one approach to segmentation that involves dividing customers based on specific rules or criteria.\n",
        "\n",
        "The segmentation can be based on factors such as total recharge, outgoing call usage, data usage, and satisfaction scores. By categorizing customers based on these factors, we can identify high-value customers, at-risk customers, and customers who are likely to churn. This information can then be used to develop personalized marketing campaigns and retention strategies. In the upcoming sections, we will explore a rule-based customer segmentation approach that categorizes customers into four groups based on their behavior and attributes.\n",
        "\n"
      ]
    },
    {
      "cell_type": "markdown",
      "metadata": {
        "id": "zyIB9DwlUIxO"
      },
      "source": [
        "### **Dynamic Churn Rates**\n",
        "\n",
        "Monthly dynamic churn rate is a metric that is widely used in the telecom industry to measure customer attrition. It refers to the percentage of customers who discontinue their service with a telecom provider during a given month. The dynamic nature of the churn rate reflects the constant influx of new customers as well as the loss of existing ones, and is influenced by various factors such as pricing, service quality, network coverage, customer support, and competitive offerings.\n",
        "\n",
        "For telecom companies, managing churn rate is crucial as it directly impacts revenue and profitability. High churn rates can lead to significant revenue loss as well as increased costs associated with customer acquisition and retention efforts. On the other hand, low churn rates can result in higher customer lifetime value, increased revenue per user, and improved brand loyalty.\n",
        "\n"
      ]
    },
    {
      "cell_type": "code",
      "execution_count": null,
      "metadata": {
        "id": "SaMa6oPLarC_"
      },
      "outputs": [],
      "source": [
        "# group by Month of Joining to get new customers for each month\n",
        "new_customers = df.groupby('Month of Joining')['Customer ID'].nunique().reset_index()\n",
        "new_customers = new_customers.rename(columns={'Customer ID': 'New Customers'})"
      ]
    },
    {
      "cell_type": "code",
      "execution_count": null,
      "metadata": {
        "colab": {
          "base_uri": "https://localhost:8080/",
          "height": 425
        },
        "id": "W_1N3bvyarC_",
        "outputId": "5b2379e8-c8b4-4d2c-9254-377d9ce7a14b"
      },
      "outputs": [],
      "source": [
        "# let's take only one year of data\n",
        "new_customers"
      ]
    },
    {
      "cell_type": "code",
      "execution_count": null,
      "metadata": {
        "colab": {
          "base_uri": "https://localhost:8080/"
        },
        "id": "FMPT79-KarDA",
        "outputId": "b303ca34-ba09-4ba1-e688-f1a6b53b172b"
      },
      "outputs": [],
      "source": [
        "# Filter churned and get monthly loss of customers\n",
        "churned_customers = df[df['Churn Value'] == 1]\n",
        "\n",
        "lost_customers_by_month = churned_customers.groupby('Month')['Churn Value'].count()\n",
        "lost_customers_by_month"
      ]
    },
    {
      "cell_type": "code",
      "execution_count": null,
      "metadata": {
        "colab": {
          "base_uri": "https://localhost:8080/",
          "height": 425
        },
        "id": "1mxESzRkarDA",
        "outputId": "6ceb64ea-f22e-4316-8b26-a02b6443c0e6"
      },
      "outputs": [],
      "source": [
        "# Calculating the dynamic churn rates\n",
        "dynamic_churn_rates = new_customers.merge(lost_customers_by_month, left_on=\"Month of Joining\", right_on=\"Month\").rename({\"Churn Value\": \"Lost Customers\"}, axis=1)\n",
        "dynamic_churn_rates"
      ]
    },
    {
      "cell_type": "code",
      "execution_count": null,
      "metadata": {
        "id": "hcwiznDSarDA"
      },
      "outputs": [],
      "source": [
        "# Add a new column for Total Customers\n",
        "dynamic_churn_rates['Total Customers'] = dynamic_churn_rates['New Customers'].cumsum() - dynamic_churn_rates['Lost Customers'].cumsum().shift(fill_value=0)\n",
        "\n",
        "# Add a new column for Churn Rate\n",
        "dynamic_churn_rates['Churn Rate'] = dynamic_churn_rates['Lost Customers'] / dynamic_churn_rates['Total Customers']"
      ]
    },
    {
      "cell_type": "code",
      "execution_count": null,
      "metadata": {
        "colab": {
          "base_uri": "https://localhost:8080/",
          "height": 425
        },
        "id": "KJC1NNuJarDA",
        "outputId": "8dfaa8b7-6e84-41a3-9986-3ceb81b4ba9b"
      },
      "outputs": [],
      "source": [
        "# Rename\n",
        "dynamic_churn_rates = dynamic_churn_rates.rename({\"Month of Joining\":\"Month\"}, axis=1)\n",
        "dynamic_churn_rates"
      ]
    },
    {
      "cell_type": "code",
      "execution_count": null,
      "metadata": {
        "id": "CPFL3xq1arDA"
      },
      "outputs": [],
      "source": [
        "# Merge monthly churn rate to the original data\n",
        "df = pd.merge(df, dynamic_churn_rates[['Month', 'Churn Rate']], on='Month')\n"
      ]
    },
    {
      "cell_type": "code",
      "execution_count": null,
      "metadata": {
        "colab": {
          "base_uri": "https://localhost:8080/",
          "height": 329
        },
        "id": "Jcvqr_VbarDA",
        "outputId": "e8c04263-4a81-454d-b6a8-8ecff3dec556"
      },
      "outputs": [],
      "source": [
        "# View rows\n",
        "df.head(3)"
      ]
    },
    {
      "cell_type": "markdown",
      "metadata": {
        "id": "DLHw7FMNarDB"
      },
      "source": [
        "Now let's calculate CLTV based on total ARPU as we discussed earlier."
      ]
    },
    {
      "cell_type": "code",
      "execution_count": null,
      "metadata": {
        "id": "uuKA0fxaarDB"
      },
      "outputs": [],
      "source": [
        "# CLTV calculation\n",
        "df['CLTV_total_arpu'] = (df['total_arpu']*0.1)* (1/df['Churn Rate'])"
      ]
    },
    {
      "cell_type": "code",
      "execution_count": null,
      "metadata": {
        "colab": {
          "base_uri": "https://localhost:8080/",
          "height": 329
        },
        "id": "ScEDHuGHarDB",
        "outputId": "f5509b40-77b1-4080-85ac-315cdcba0db7"
      },
      "outputs": [],
      "source": [
        "# View\n",
        "df.head(3)"
      ]
    },
    {
      "cell_type": "code",
      "execution_count": null,
      "metadata": {
        "colab": {
          "base_uri": "https://localhost:8080/",
          "height": 423
        },
        "id": "_rkRm1asarDB",
        "outputId": "36b00900-0859-4ae4-d8c3-602439df40f2"
      },
      "outputs": [],
      "source": [
        "# Lets calculate the max tenure of each customer\n",
        "max_tenure = df.groupby('Customer ID')['Tenure'].max().reset_index()\n",
        "max_tenure"
      ]
    },
    {
      "cell_type": "markdown",
      "metadata": {
        "id": "18SzdPClV8A0"
      },
      "source": [
        "In the telecom industry, customers frequently switch between service providers, so it is important to identify and categorize them based on their usage behavior and retention potential.\n",
        "\n",
        "Creating flag columns for completed_6_months, churned_within_6_months, and not_completed_6_months is essential to properly segment customers.\n",
        "\n",
        "For instance, completed_6_months flag column identifies customers who have been using the service for the past 6 months without churning. churned_within_6_months flag column identifies customers who churned within 6 months of service, and not_completed_6_months flag column identifies customers who are still using the service, but have not completed 6 months yet.\n",
        "\n",
        "By creating these flag columns, we can easily filter and segment customers based on their status, which helps in targeted marketing, understanding churn behavior, and predicting CLTV."
      ]
    },
    {
      "cell_type": "code",
      "execution_count": null,
      "metadata": {
        "id": "_0IEvt3sarDB"
      },
      "outputs": [],
      "source": [
        "# Creating completed 6 months column and encoding them where max tenure is > 6\n",
        "max_tenure.loc[max_tenure['Tenure'] >= 6, 'completed_6_months'] = 1"
      ]
    },
    {
      "cell_type": "code",
      "execution_count": null,
      "metadata": {
        "id": "44l2SexRUQbM"
      },
      "outputs": [],
      "source": [
        "def create_flags(df):\n",
        "    # Initialize flags to zero\n",
        "    df['completed_6_months'] = 0\n",
        "    df['churned_within_6_months'] = 0\n",
        "    df['not_completed_6_months'] = 0\n",
        "    \n",
        "    # Find customers who have completed at least 6 months\n",
        "    max_tenure = df.groupby('Customer ID')['Tenure'].max().reset_index()\n",
        "    completed_ids = max_tenure.loc[max_tenure['Tenure'] >= 6, 'Customer ID']\n",
        "    df.loc[df['Customer ID'].isin(completed_ids), 'completed_6_months'] = 1\n",
        "    \n",
        "    churned_ids = df.loc[(df['Churn Value'] == 1) & (df['Month'] == df.groupby('Customer ID')['Month'].transform('max')), 'Customer ID']\n",
        "    # group by customer ID and find the maximum tenure\n",
        "    max_tenure = df.groupby('Customer ID')['Tenure'].max().reset_index()\n",
        "\n",
        "    # filter again to include only the rows where the maximum tenure is less than 6\n",
        "    filtered_max_tenure = max_tenure[max_tenure['Tenure'] < 6]\n",
        "    customer_ids_filtered = filtered_max_tenure['Customer ID'].tolist()\n",
        "    df.loc[df['Customer ID'].isin(customer_ids_filtered), 'churned_within_6_months'] = 1\n",
        "    \n",
        "    # Find customers who have not completed 6 months and have not churned\n",
        "    not_completed_ids = df.groupby('Customer ID')['Tenure'].count().reset_index()\n",
        "    not_completed_ids = not_completed_ids.loc[(not_completed_ids['Tenure'] < 6) & (~not_completed_ids['Customer ID'].isin(churned_ids)), 'Customer ID']\n",
        "    df.loc[df['Customer ID'].isin(not_completed_ids), 'not_completed_6_months'] = 1\n",
        "    \n",
        "    return df\n"
      ]
    },
    {
      "cell_type": "code",
      "execution_count": null,
      "metadata": {
        "id": "O7maJ-gwfUgf"
      },
      "outputs": [],
      "source": [
        "# create flags\n",
        "df = create_flags(df)"
      ]
    },
    {
      "cell_type": "code",
      "execution_count": null,
      "metadata": {
        "colab": {
          "base_uri": "https://localhost:8080/",
          "height": 343
        },
        "id": "yKt6B0nIPu-9",
        "outputId": "04409092-830f-4509-c3d3-5d557932431f"
      },
      "outputs": [],
      "source": [
        "# Verify\n",
        "df[df['Customer ID'] == \"tqhiqgvbbhley51\"]"
      ]
    },
    {
      "cell_type": "code",
      "execution_count": null,
      "metadata": {
        "colab": {
          "base_uri": "https://localhost:8080/",
          "height": 544
        },
        "id": "LGBP57yearDC",
        "outputId": "c60ccfc1-7000-4941-a87d-3e8a20f4961e"
      },
      "outputs": [],
      "source": [
        "# Let's verify, completed 6 months\n",
        "df[df['Customer ID']=='aaamjcrckmkor19758']"
      ]
    },
    {
      "cell_type": "markdown",
      "metadata": {
        "id": "L2D6XvmaarDC"
      },
      "source": [
        "### **Usage Patterns and Deviations**\n",
        "\n",
        "Usage patterns and monthly deviations are important metrics for understanding customer behavior in the telecom industry. In this project, we focus on outgoing call usage and data usage as the main usage patterns as they are revenue drivers. To calculate monthly deviations, we subtract the previous month's usage from the current month's usage.\n",
        "\n",
        "Before calculating deviations, we remove unnecessary columns such as incoming usage since we assume it is free, and we also remove outgoing usage to the call center since it is assumed to be free. We then calculate the deviations using the .diff() method which computes the difference between consecutive rows.\n",
        "\n",
        "Using these usage patterns and monthly deviations, we can gain insights into customer behavior such as which customers are heavy users of outgoing calls or data, and which customers have significant fluctuations in usage from month to month. "
      ]
    },
    {
      "cell_type": "code",
      "execution_count": null,
      "metadata": {
        "id": "3U47Kw8XarDC"
      },
      "outputs": [],
      "source": [
        "# lets first remove unnecessary columns\n",
        "# assume incoming is free\n",
        "# we will just keep outgoing and data usage, and premium services columns and assume outgoing to call center is free\n",
        "\n",
        "cols_to_keep = ['Customer ID', 'Month', 'Month of Joining', 'Gender', 'Age', 'Married',\n",
        "       'Dependents', \n",
        "       'arpu',  'roam_og', 'loc_og_t2t', 'loc_og_t2m', 'loc_og_t2f',\n",
        "        'std_og_t2t', 'std_og_t2m', 'std_og_t2f',\n",
        "       'isd_og', 'spl_og', 'og_others', 'total_rech_amt', 'total_rech_data',\n",
        "       'vol_4g', 'vol_5g', 'arpu_5g', 'arpu_4g', 'Churn Value',\n",
        "       'Referred a Friend', 'Number of Referrals', 'Phone Service',\n",
        "       'Multiple Lines', 'Internet Service', 'Internet Type',\n",
        "       'Streaming Data Consumption', 'Online Security', 'Online Backup',\n",
        "       'Device Protection Plan', 'Premium Tech Support', 'Streaming TV',\n",
        "       'Streaming Movies', 'Streaming Music', 'Unlimited Data',\n",
        "       'Payment Method', 'Satisfaction Score', 'Churn Category',\n",
        "       'Churn Reason', 'total_recharge', 'offer', 'Tenure', 'total_arpu',\n",
        "       'Churn Rate', 'outgoing_call_usage', 'data_usage',\n",
        "       'CLTV_total_arpu', 'completed_6_months','churned_within_6_months', 'not_completed_6_months']\n",
        "\n",
        "df = df[cols_to_keep]"
      ]
    },
    {
      "cell_type": "code",
      "execution_count": null,
      "metadata": {
        "id": "qeV29octarDC"
      },
      "outputs": [],
      "source": [
        "def normalized_col(df_col, req_int_min, req_int_max):\n",
        "    # find the minimum and maximum values of the input column\n",
        "    min_col = df_col.min()\n",
        "    max_col = df_col.max()\n",
        "\n",
        "    # normalize the column values between req_int_min and req_int_max\n",
        "    df_norm_col = ((df_col - min_col) / (max_col - min_col) * (req_int_max - req_int_min)) + req_int_min\n",
        "\n",
        "    # return the normalized column\n",
        "    return df_norm_col"
      ]
    },
    {
      "cell_type": "code",
      "execution_count": null,
      "metadata": {
        "id": "FUcAvbxCarDC"
      },
      "outputs": [],
      "source": [
        "# calculate deviation\n",
        "dev_cols = ['total_recharge', 'outgoing_call_usage', 'data_usage', 'Satisfaction Score']\n",
        "\n",
        "preserve(\"fcTel4\")\n",
        "# Calculate the deviation for each column\n",
        "for col in dev_cols:\n",
        "    col_name = col + '_dev'\n",
        "    df[col_name] = df.groupby('Customer ID')[col].diff().fillna(0)\n",
        "\n",
        "# Normalize the deviation columns between 1 and 10\n",
        "for col in dev_cols:\n",
        "    df[col + '_dev'] = normalized_col(df[col + '_dev'], 1, 10)"
      ]
    },
    {
      "cell_type": "code",
      "execution_count": null,
      "metadata": {
        "colab": {
          "base_uri": "https://localhost:8080/",
          "height": 329
        },
        "id": "xUE8qolVarDC",
        "outputId": "16b3d910-2900-487b-ff6d-40b7c1269545"
      },
      "outputs": [],
      "source": [
        "# Head\n",
        "df.head(3)"
      ]
    },
    {
      "cell_type": "code",
      "execution_count": null,
      "metadata": {
        "colab": {
          "base_uri": "https://localhost:8080/"
        },
        "id": "5gjjFfG92TVO",
        "outputId": "1a632e48-fe30-4fce-f8ed-f0f19ee76de3"
      },
      "outputs": [],
      "source": [
        "# check for any nulls\n",
        "df.isnull().sum()"
      ]
    },
    {
      "cell_type": "markdown",
      "metadata": {
        "id": "tAnY6jcmgh2r"
      },
      "source": [
        "We are not significantly using number of referrals!"
      ]
    },
    {
      "cell_type": "markdown",
      "metadata": {
        "id": "MLsk0bi2bVd9"
      },
      "source": [
        "### **Customer Segments**\n",
        "\n",
        "\n",
        "The code provided in the next section categorizes customers into four groups: new customers, churned customers, loyal customers, and retained customers. Each group is determined based on a set of rules that take into account a variety of factors such as total recharge amount, outgoing call and data usage, and satisfaction score.\n",
        "\n",
        "Loyalty Score = (Total Recharge Deviation * w1) + (Usage Deviation * w2) + (Satisfaction Deviation * w3)\n",
        "\n",
        "Retention Score = (Total Recharge Deviation * w4) + (Usage Deviation * w5) + (Satisfaction Deviation * w6)\n",
        "\n",
        "Here, w1, w2, w3, w4, w5 and w6 are the weights assigned to each parameter for each segment. You can adjust the weights as per your business requirements and the impact of each parameter on the loyalty and retention of the customers in each segment.\n",
        "\n",
        "\n",
        "**New Customers**\n",
        "\n",
        "New customers are those who have not completed six months with the company. These are customers who have recently joined the company and may not have a strong attachment to the brand yet. Since they have no prior history with the company, their retention is likely to be more heavily influenced by their satisfaction with the product or service. Thus, higher weight could be given to the satisfaction deviation.\n",
        "\n",
        "**Churned Customers**\n",
        "\n",
        "Churned customers are those who have left the company within six months. They are given a loyalty of zero but we will calculate retention scores of these customers giving higher weight to customer satisfaction deviation.\n",
        "\n",
        "**Loyal Customers**\n",
        "\n",
        "Loyal customers are those who have completed six months with the company. These are customers who have a strong emotional attachment to the brand and are less likely to switch to a competitor. For this segment, both total recharge deviation is the most important while usage deviation and satisfaction deviation is less important. \n",
        "\n",
        "**Retained Customers**\n",
        "\n",
        "Retained customers are those who have completed six months with the company.  These are customers who have been with the company for a while and have a high level of engagement. For this segment, the importance of total recharge deviation and satisfaction deviation is high, while usage deviation is relatively less important. "
      ]
    },
    {
      "cell_type": "code",
      "execution_count": null,
      "metadata": {
        "id": "3uFXc303pIBj"
      },
      "outputs": [],
      "source": [
        "# assign weights\n",
        "customer_weights = { \"not_completed_6_months\": {\"w1\": 0.2,\"w2\": 0.3, \"w3\": 0.5, \"w4\": 0.3, \"w5\": 0.3, \"w6\": 0.4 },\n",
        "                     \"churned_within_6_months\": { \"w1\": 0, \"w2\": 0, \"w3\": 0, \"w4\": 0.4, \"w5\": 0.2, \"w6\": 0.4 },\n",
        "                     \"completed_6_months\": { \"w1\": 0.5,\"w2\": 0.3,\"w3\": 0.2, \"w4\": 0.3,\"w5\": 0.1,\"w6\": 0.6}\n",
        "                     }\n"
      ]
    },
    {
      "cell_type": "code",
      "execution_count": null,
      "metadata": {
        "id": "4BMkKZeearDC"
      },
      "outputs": [],
      "source": [
        "def calculate_scores(weight_dic, total_recharge_dev, usage_dev, satisfaction_score_dev):\n",
        "    wt1 = weight_dic['w1']\n",
        "    wt2 = weight_dic['w2']\n",
        "    wt3 = weight_dic['w3']\n",
        "    wt4 = weight_dic['w4']\n",
        "    wt5 = weight_dic['w5']\n",
        "    wt6 = weight_dic['w6']\n",
        "\n",
        "    loyalty_score = wt1 * total_recharge_dev + wt2 * usage_dev + wt3 * satisfaction_score_dev\n",
        "    retention_score = wt4 * total_recharge_dev + wt5 * usage_dev + wt6 * satisfaction_score_dev\n",
        "\n",
        "    return loyalty_score, retention_score\n",
        "\n",
        "\n",
        "def get_customer_category(row):\n",
        "\n",
        "    # Extract feature values\n",
        "    total_recharge_dev = row['total_recharge_dev']\n",
        "    outgoing_call_usage_dev = row['outgoing_call_usage_dev']\n",
        "    data_usage_dev = row['data_usage_dev']\n",
        "    satisfaction_score_dev = row['Satisfaction Score_dev']\n",
        "    \n",
        "    usage_dev = (outgoing_call_usage_dev + data_usage_dev)/2\n",
        "    # Define loyalty and retention weights\n",
        "   \n",
        "\n",
        "    # Categorize new customers\n",
        "    if row['not_completed_6_months'] == 1:\n",
        "        \n",
        "        loyalty_score, retention_score = calculate_scores(customer_weights['not_completed_6_months'], total_recharge_dev, usage_dev, satisfaction_score_dev)\n",
        "        return 'new_customer', loyalty_score, retention_score\n",
        "    \n",
        "    # Categorize churned customers\n",
        "    elif row['churned_within_6_months'] == 1:\n",
        "        loyalty_score, retention_score = calculate_scores(customer_weights['churned_within_6_months'], total_recharge_dev, usage_dev, satisfaction_score_dev)\n",
        "        \n",
        "        return 'churned_within_6_months', loyalty_score, retention_score\n",
        "    \n",
        "    # Categorize existing customers\n",
        "    elif row['completed_6_months'] == 1:\n",
        "        \n",
        "        loyalty_score, retention_score = calculate_scores(customer_weights['completed_6_months'], total_recharge_dev, usage_dev, satisfaction_score_dev)\n",
        "        # Categorize based on loyalty and retention scores\n",
        "        if loyalty_score > retention_score:\n",
        "            return 'loyal', loyalty_score, retention_score\n",
        "        \n",
        "        elif row['Churn Value'] == 1:\n",
        "            return 'churned', loyalty_score, retention_score\n",
        "        \n",
        "        elif loyalty_score < retention_score:\n",
        "            return 'retained', loyalty_score, retention_score\n",
        "      \n",
        "\n",
        "\n",
        "\n",
        "\n",
        "def assign_customer_segments(df):\n",
        "    # create columns for loyalty and retention scores\n",
        "    df['loyalty_score'] = 0\n",
        "    df['retention_score'] = 0\n",
        "    \n",
        "    # apply the function to each row\n",
        "    df[['customer_segment', 'loyalty_score', 'retention_score']] = df.apply(get_customer_category, axis=1, result_type='expand')\n",
        "    \n",
        "    # get the last assigned segment for each customer\n",
        "    last_segment = df.groupby('Customer ID')['customer_segment'].last()\n",
        "    \n",
        "    # map the last segment to all rows of each customer\n",
        "    df['customer_segment'] = df['Customer ID'].map(last_segment)\n",
        "\n",
        "    return df"
      ]
    },
    {
      "cell_type": "code",
      "execution_count": null,
      "metadata": {
        "id": "0M-UDlk-arDC"
      },
      "outputs": [],
      "source": [
        "df_final = df.copy()\n",
        "\n",
        "df_final = assign_customer_segments(df_final)"
      ]
    },
    {
      "cell_type": "markdown",
      "metadata": {
        "id": "Lrm0tDZ6arDD"
      },
      "source": [
        "Since these customers are new, it's safe to assume that retention is more important than loyalty, so you can give more weight to retention in the score calculation."
      ]
    },
    {
      "cell_type": "markdown",
      "metadata": {
        "id": "qV7PeoicarDD"
      },
      "source": [
        " it is important to note that the loyalty score calculation takes into account multiple factors such as total recharge, usage, and satisfaction. Therefore, a high loyalty score indicates that despite the deviations in their behavior, the customer is still exhibiting characteristics of a loyal customer based on their overall behavior and interactions with the company."
      ]
    },
    {
      "cell_type": "code",
      "execution_count": null,
      "metadata": {
        "colab": {
          "base_uri": "https://localhost:8080/",
          "height": 426
        },
        "id": "hFg2kq2aarDD",
        "outputId": "7def0d5c-f47b-4de3-e861-c35a25e067b8"
      },
      "outputs": [],
      "source": [
        "# Head\n",
        "df_final.head()"
      ]
    },
    {
      "cell_type": "code",
      "execution_count": null,
      "metadata": {
        "colab": {
          "base_uri": "https://localhost:8080/"
        },
        "id": "FbxkGbmcbhNX",
        "outputId": "d5dcbffe-c36e-4b52-d35e-af0e2590566b"
      },
      "outputs": [],
      "source": [
        "df_final.columns"
      ]
    },
    {
      "cell_type": "code",
      "execution_count": null,
      "metadata": {
        "colab": {
          "base_uri": "https://localhost:8080/"
        },
        "id": "72RiZpqIarDD",
        "outputId": "a9a9e166-3dc5-42d6-8620-4eb453452c80"
      },
      "outputs": [],
      "source": [
        "df_final['customer_segment'].value_counts()"
      ]
    },
    {
      "cell_type": "code",
      "execution_count": null,
      "metadata": {
        "id": "8QZVH1iZcoG8"
      },
      "outputs": [],
      "source": [
        "# sorted data\n",
        "sorted_df = df_final.sort_values(by=['Customer ID', 'Month'])\n"
      ]
    },
    {
      "cell_type": "code",
      "execution_count": null,
      "metadata": {
        "id": "lHPUvEyXbSbF"
      },
      "outputs": [],
      "source": [
        "# Taking summary of journey through tenure\n",
        "customer_df = sorted_df.groupby('Customer ID').agg({\n",
        "    'Age': 'first',\n",
        "    'Month of Joining': 'first',\n",
        "    'Gender': 'first',\n",
        "    'Married': 'first',\n",
        "    'Dependents': 'first',\n",
        "    'arpu': 'mean',\n",
        "    'roam_og': 'mean',\n",
        "    'loc_og_t2t': 'mean',\n",
        "    'loc_og_t2m': 'mean',\n",
        "    'loc_og_t2f': 'mean',\n",
        "    'std_og_t2t': 'mean',\n",
        "    'std_og_t2m': 'mean',\n",
        "    'std_og_t2f': 'mean',\n",
        "    'isd_og': 'mean',\n",
        "    'spl_og': 'mean',\n",
        "    'og_others': 'mean',\n",
        "    'total_rech_amt': 'sum',\n",
        "    'total_rech_data': 'sum',\n",
        "    'vol_4g': 'mean',\n",
        "    'vol_5g': 'mean',\n",
        "    'arpu_5g': 'mean',\n",
        "    'arpu_4g': 'mean',\n",
        "\n",
        "    'Churn Value': 'max',\n",
        "    'Referred a Friend': 'max',\n",
        "    'Number of Referrals': 'sum', \n",
        "    'Phone Service': 'last',\n",
        "     'Multiple Lines': 'last',\n",
        "      'Internet Service': 'last',\n",
        "      'Internet Type': 'last',\n",
        "       'Streaming Data Consumption': 'last',\n",
        "       'Online Security': 'last',\n",
        "        'Online Backup': 'last',\n",
        "      'Device Protection Plan': 'last',\n",
        "       'Premium Tech Support': 'last', \n",
        "        'Streaming TV': 'last',\n",
        "      'Streaming Movies': 'last',\n",
        "       'Streaming Music': 'last',\n",
        "        'Unlimited Data': 'last',\n",
        "    'Satisfaction Score': 'mean',\n",
        "    'Churn Category': 'last',\n",
        "    'Churn Reason': 'last',\n",
        "    'Tenure': 'max',\n",
        "    'total_recharge': 'sum',\n",
        "    'outgoing_call_usage': 'sum',\n",
        "     'data_usage': 'sum',\n",
        "      'CLTV_total_arpu': 'sum',\n",
        "     'total_recharge_dev': 'mean',\n",
        "       'outgoing_call_usage_dev' : 'mean', \n",
        "       'data_usage_dev': 'mean', 'Satisfaction Score_dev': 'mean',\n",
        "       'loyalty_score': 'last', 'retention_score':'last', 'customer_segment': 'last',\n",
        "    'completed_6_months': 'max',\n",
        "    'churned_within_6_months': 'max',\n",
        "    'not_completed_6_months': 'max',\n",
        "}).reset_index()"
      ]
    },
    {
      "cell_type": "markdown",
      "metadata": {
        "id": "ycms2MSDhXAO"
      },
      "source": [
        "Let's analyze one segment at a time!"
      ]
    },
    {
      "cell_type": "markdown",
      "metadata": {
        "id": "p8wnCN9Mhc4R"
      },
      "source": [
        "#### **Loyal**"
      ]
    },
    {
      "cell_type": "code",
      "execution_count": null,
      "metadata": {
        "id": "bYJ9rdj1ZH1r"
      },
      "outputs": [],
      "source": [
        "# all loyal customers\n",
        "\n",
        "loyal_customers = customer_df[customer_df['customer_segment'] == 'loyal'].reset_index(drop=True)"
      ]
    },
    {
      "cell_type": "code",
      "execution_count": null,
      "metadata": {
        "colab": {
          "base_uri": "https://localhost:8080/",
          "height": 294
        },
        "id": "loTo9mBfaQtB",
        "outputId": "f00ecb2d-b4b2-4f06-a6f3-38cc46d378c1"
      },
      "outputs": [],
      "source": [
        "# head\n",
        "loyal_customers.head(3)"
      ]
    },
    {
      "cell_type": "code",
      "execution_count": null,
      "metadata": {
        "colab": {
          "base_uri": "https://localhost:8080/",
          "height": 214
        },
        "id": "NgIiUDfshGjZ",
        "outputId": "6dae3ca7-96e6-4a97-9f1a-100a5f21f6d5"
      },
      "outputs": [],
      "source": [
        "\n",
        "# analyze one customer\n",
        "loyal_customers[loyal_customers['Customer ID'] == \"vtgzwaptuamhj154\"]"
      ]
    },
    {
      "cell_type": "code",
      "execution_count": null,
      "metadata": {
        "colab": {
          "base_uri": "https://localhost:8080/",
          "height": 687
        },
        "id": "Xz-JSwiNfof9",
        "outputId": "3de27b5d-db9e-45ab-8487-56957ce1d124"
      },
      "outputs": [],
      "source": [
        "# sort customers by CLTV in descending order\n",
        "top_customers = loyal_customers.sort_values(by='CLTV_total_arpu', ascending=False)\n",
        "\n",
        "# display top 10 customers by CLTV\n",
        "top_customers.head(10)"
      ]
    },
    {
      "cell_type": "code",
      "execution_count": null,
      "metadata": {
        "colab": {
          "base_uri": "https://localhost:8080/"
        },
        "id": "ou2BdpN1f61E",
        "outputId": "3de06fdb-6c40-41b4-c99c-66e0bc9c4271"
      },
      "outputs": [],
      "source": [
        "# calculate average order value for loyal customers\n",
        "avg_order_value = loyal_customers['total_rech_amt'].sum() / loyal_customers.shape[0]\n",
        "\n",
        "avg_order_value"
      ]
    },
    {
      "cell_type": "code",
      "execution_count": null,
      "metadata": {
        "colab": {
          "base_uri": "https://localhost:8080/"
        },
        "id": "6rFYMcIQgHsc",
        "outputId": "1cde3a35-fb5c-4268-9796-a2a6597063d7"
      },
      "outputs": [],
      "source": [
        "# calculate customer lifespan for loyal customers\n",
        "lifespan = loyal_customers['Tenure'].mean()\n",
        "\n",
        "lifespan"
      ]
    },
    {
      "cell_type": "code",
      "execution_count": null,
      "metadata": {
        "colab": {
          "base_uri": "https://localhost:8080/"
        },
        "id": "iBmOA9shgMV1",
        "outputId": "2b24e08e-18f0-4f9c-8d98-b05b662f08c6"
      },
      "outputs": [],
      "source": [
        "# calculate average recharge amount\n",
        "avg_order_value/lifespan"
      ]
    },
    {
      "cell_type": "code",
      "execution_count": null,
      "metadata": {
        "colab": {
          "base_uri": "https://localhost:8080/"
        },
        "id": "h28ukK5QgyK3",
        "outputId": "d46ad3f1-27f5-44ae-ae39-eb72d4e11c6d"
      },
      "outputs": [],
      "source": [
        "service_counts = loyal_customers[services].sum().sort_values(ascending=False)\n",
        "\n",
        "# display the top 5 most popular services among loyal customers\n",
        "print('Top 5 Most Popular Services Among Loyal Customers:')\n",
        "service_counts.head(5)"
      ]
    },
    {
      "cell_type": "markdown",
      "metadata": {
        "id": "EtGIH4wCg5WI"
      },
      "source": [
        "\n",
        "\n",
        "The top 5 most popular services among loyal customers are Internet Service, Unlimited Data, Device Protection Plan, Streaming TV, and Streaming Movies. These services have the highest count of usage among loyal customers, indicating a high level of satisfaction and interest in these services.\n",
        "\n",
        "This information can be used to develop targeted marketing campaigns to encourage new customers to sign up for these popular services and to increase retention rates among existing customers. Companies can also use this information to allocate resources more efficiently and prioritize service improvements and updates for these popular services."
      ]
    },
    {
      "cell_type": "markdown",
      "metadata": {
        "id": "0NiWMR1UhqQO"
      },
      "source": [
        "#### **Churned**"
      ]
    },
    {
      "cell_type": "code",
      "execution_count": null,
      "metadata": {
        "id": "0-foWwXDkxj-"
      },
      "outputs": [],
      "source": [
        "# churned customers, these are customers who churned after 6 months so cltv could have been higher, so we will analyze this\n",
        "churned_customers = customer_df[customer_df['customer_segment'] == 'churned'].reset_index(drop=True)"
      ]
    },
    {
      "cell_type": "code",
      "execution_count": null,
      "metadata": {
        "colab": {
          "base_uri": "https://localhost:8080/",
          "height": 716
        },
        "id": "WSbnuQkUldAT",
        "outputId": "fd8e4f9b-f1d9-4586-bbd9-542ad5f9eafa"
      },
      "outputs": [],
      "source": [
        "# group by churn reason and calculate count\n",
        "churn_reason_counts = churned_customers.groupby('Churn Category')['Customer ID'].count()\n",
        "\n",
        "# plot pie chart\n",
        "plt.figure(figsize=(20,12))\n",
        "churn_reason_counts.plot(kind='pie', autopct='%1.1f%%', startangle=90, ylabel='', title='Churn Reasons for High CLTV Customers')"
      ]
    },
    {
      "cell_type": "markdown",
      "metadata": {
        "id": "OtiOwMf5nd0T"
      },
      "source": [
        "**Observations**:\n",
        "\n",
        "There are a variety of reasons why customers churned after completing 6 months with the company but most common factor would be support.\n",
        "\n",
        "We can see support, dissatisfaction and price are the major ones.\n",
        "\n",
        "**Recommendations**:\n",
        "\n",
        "* It is recommended that the company focus on improving its support services, especially online and phone support, to reduce customer churn. This can be achieved by investing in training and development of support staff to enhance their expertise and provide better service to customers.\n",
        "\n",
        "* It is important to identify and address the specific issues that are causing churn among high CLTV customers. This can be done through targeted surveys and feedback from customers who have churned, as well as by analyzing their behavior and preferences to identify areas for improvement.\n",
        "\n",
        "* Pricing can be addressed by introducing dynamic pricing and offering competitive prices and promotions to retain high-value customers."
      ]
    },
    {
      "cell_type": "code",
      "execution_count": null,
      "metadata": {
        "colab": {
          "base_uri": "https://localhost:8080/",
          "height": 263
        },
        "id": "pqGpV4eL3h43",
        "outputId": "dac281b3-7edd-4e7c-e996-8cb41e78d543"
      },
      "outputs": [],
      "source": [
        "churned_customers.head(2)"
      ]
    },
    {
      "cell_type": "markdown",
      "metadata": {
        "id": "phBZZ8P1h81v"
      },
      "source": [
        "#### **Retained**"
      ]
    },
    {
      "cell_type": "code",
      "execution_count": null,
      "metadata": {
        "id": "0azjk71DrB61"
      },
      "outputs": [],
      "source": [
        "# select the data for retained customers\n",
        "retained_customers = customer_df[customer_df['customer_segment'] == 'retained']\n"
      ]
    },
    {
      "cell_type": "code",
      "execution_count": null,
      "metadata": {
        "colab": {
          "base_uri": "https://localhost:8080/"
        },
        "id": "QqVpizLarQ7-",
        "outputId": "a2241fab-aaf8-406d-baa8-0c97bfaf386b"
      },
      "outputs": [],
      "source": [
        "# calculate the average CLTV for retained customers\n",
        "avg_cltv = retained_customers['CLTV_total_arpu'].mean()\n",
        "\n",
        "# display the average CLTV for retained customers\n",
        "print('Average CLTV for Retained Customers:', round(avg_cltv, 2))\n",
        "\n"
      ]
    },
    {
      "cell_type": "markdown",
      "metadata": {
        "id": "f4JtthpKsS4W"
      },
      "source": [
        "**Observations**:\n",
        "\n",
        "It can be observed that the average CLTV value of retained customers is much higher than loyal customers. This suggests that the company should focus on retaining customers to increase their revenue and profitability.\n",
        "\n",
        "**Recommendations**:\n",
        "\n",
        "* Offer personalized and targeted incentives to retain customers who are at risk of churning. This could include offering discounts or promotions on popular services or providing excellent customer support to address any concerns or issues they may have.\n",
        "\n",
        "* Focus on providing excellent customer support to retain customers, as this is a key factor in customer satisfaction and retention."
      ]
    },
    {
      "cell_type": "markdown",
      "metadata": {
        "id": "TGSxL1EG24p-"
      },
      "source": [
        "## **Feature Importance**"
      ]
    },
    {
      "cell_type": "code",
      "execution_count": null,
      "metadata": {
        "colab": {
          "base_uri": "https://localhost:8080/",
          "height": 1000
        },
        "id": "iLIokWOq8CNB",
        "outputId": "ff164396-07ca-427f-fe33-187fab4db4cb"
      },
      "outputs": [],
      "source": [
        "# Categorical Services Column\n",
        "cat_cols = ['Phone Service', 'Multiple Lines',\n",
        "       'Internet Service', 'Internet Type',\n",
        "       'Online Security', 'Online Backup', 'Device Protection Plan',\n",
        "       'Premium Tech Support', 'Streaming TV', 'Streaming Movies',\n",
        "       'Streaming Music', 'Unlimited Data']\n",
        "\n",
        "save_point(\"fcTel4\")\n",
        "# Loop over categorical columns\n",
        "for col in cat_cols:\n",
        "    # Create a barplot of mean CLTV by category\n",
        "    plt.figure(figsize=(10,6))\n",
        "    sns.barplot(x=col, y='CLTV_total_arpu', data=df_final)\n",
        "    plt.title(f\"Mean CLTV by {col}\")\n",
        "    plt.show()"
      ]
    },
    {
      "cell_type": "markdown",
      "metadata": {
        "id": "iZ0v4i-AC7u3"
      },
      "source": [
        "**Observations and Insights:**\n",
        "\n",
        "* Customers who use internet services, online backup, streaming movies and music, and unlimited data access tend to have higher Customer Lifetime Value (CLTV).\n",
        "* Customers who have opted for multiple services, such as internet and online security or streaming movies and music with unlimited data access, have even higher CLTV.\n",
        "\n",
        "**Recommendations:**\n",
        "\n",
        "* The company should focus on providing high-quality internet services and online security features to retain and attract more customers.\n",
        "\n",
        "* The company should consider promoting streaming movies and music services and unlimited data access to customers, as these are services that are associated with higher CLTV.\n",
        "\n",
        "* The company should offer personalized bundles and promotions to customers who have subscribed to multiple services, as these customers tend to have higher CLTV.\n",
        "\n",
        "* The company should analyze the reasons why customers aren't satisfied and find ways to improve their satisfaction with these services or encourage them to opt for more valuable services."
      ]
    },
    {
      "cell_type": "code",
      "execution_count": null,
      "metadata": {
        "colab": {
          "base_uri": "https://localhost:8080/",
          "height": 831
        },
        "id": "8w2oTQND3YpQ",
        "outputId": "5722d82b-a23b-4595-be17-ce810ee309ea"
      },
      "outputs": [],
      "source": [
        "# Create a correlation matrix\n",
        "features = ['arpu', 'roam_og', 'loc_og_t2t', 'loc_og_t2m',\n",
        "       'loc_og_t2f', 'std_og_t2t', 'std_og_t2m', 'std_og_t2f', 'isd_og',\n",
        "       'spl_og', 'og_others', 'total_rech_amt', 'total_rech_data', 'vol_4g',\n",
        "       'vol_5g', 'arpu_5g', 'arpu_4g',\n",
        "       'total_recharge', 'offer', 'Tenure', 'total_arpu', 'Churn Rate',\n",
        "       'outgoing_call_usage', 'data_usage', 'total_recharge_dev',\n",
        "       'outgoing_call_usage_dev', 'data_usage_dev', 'Satisfaction Score_dev',\n",
        "       'loyalty_score', 'retention_score', 'CLTV_total_arpu']\n",
        "corr = df_final[features].corr()\n",
        "\n",
        "# Plot the correlation matrix as a heatmap\n",
        "plt.figure(figsize=(20,12))\n",
        "sns.heatmap(corr, annot=True, cmap='coolwarm')\n",
        "plt.title('Correlation Matrix Heatmap')\n",
        "plt.show()"
      ]
    },
    {
      "cell_type": "markdown",
      "metadata": {
        "id": "7-Y015E0Dd5D"
      },
      "source": [
        "This shows the relationship of CLTV with revenue related columns, as we calculated CLTV from ARPU and many other features would influence ARPU."
      ]
    },
    {
      "cell_type": "markdown",
      "metadata": {
        "id": "-a-m_EsBarDD"
      },
      "source": [
        "## **High Value Customer Identification**"
      ]
    },
    {
      "cell_type": "code",
      "execution_count": null,
      "metadata": {
        "id": "qYq4cU5iarDD"
      },
      "outputs": [],
      "source": [
        "# High-Value Customers:\n",
        "high_value = customer_df[customer_df['CLTV_total_arpu'] > customer_df['CLTV_total_arpu'].quantile(0.75)]"
      ]
    },
    {
      "cell_type": "code",
      "execution_count": null,
      "metadata": {
        "colab": {
          "base_uri": "https://localhost:8080/"
        },
        "id": "KPX3jUL-arDD",
        "outputId": "e41f31ba-1c47-4a36-a022-006115de241d"
      },
      "outputs": [],
      "source": [
        "# Calculate average CLTV for high-value customers\n",
        "avg_cltv = high_value['CLTV_total_arpu'].mean()\n",
        "\n",
        "print(\"Average CLTV of high value customers: \", avg_cltv)"
      ]
    },
    {
      "cell_type": "code",
      "execution_count": null,
      "metadata": {
        "colab": {
          "base_uri": "https://localhost:8080/"
        },
        "id": "KACZ-QSTarDE",
        "outputId": "6017bc5a-03f0-48a6-88c9-fc86adf2303f"
      },
      "outputs": [],
      "source": [
        "# Calculate churn rate for high-value customers\n",
        "# Unique customer IDs and their churn values\n",
        "cust_churn = high_value[['Customer ID', 'Churn Value']]\n",
        "\n",
        "# Calculate the percentage of customers who churned out\n",
        "churn_percent = round((cust_churn['Churn Value'].value_counts()[1] / len(cust_churn)) * 100, 2)\n",
        "\n",
        "print(\"Percentage of customers who churned out:\", churn_percent, \"%\")"
      ]
    },
    {
      "cell_type": "code",
      "execution_count": null,
      "metadata": {
        "colab": {
          "base_uri": "https://localhost:8080/"
        },
        "id": "bxxQ4FgxarDE",
        "outputId": "e9d57f4d-079f-40d5-a1c8-b59be76ebc1a"
      },
      "outputs": [],
      "source": [
        "# Calculate average age for high-value customers\n",
        "avg_age = high_value['Age'].mean()\n",
        "\n",
        "print(\"Average age for high value customers: \", avg_age)"
      ]
    },
    {
      "cell_type": "code",
      "execution_count": null,
      "metadata": {
        "colab": {
          "base_uri": "https://localhost:8080/",
          "height": 421
        },
        "id": "sHgak5KGarDE",
        "outputId": "b9e6f569-63f5-4ebb-f616-12312126f2ee"
      },
      "outputs": [],
      "source": [
        "# Satisfaction score among high valued customers\n",
        "plt.figure(figsize=(10,6))\n",
        "# Create bins for satisfaction score\n",
        "bins = [0, 2, 3, 5]\n",
        "labels = [ 'Low', 'Moderate', 'High']\n",
        "high_value['Satisfaction Score Bins'] = pd.cut(high_value['Satisfaction Score'], bins=bins, labels=labels)\n",
        "\n",
        "# Countplot of satisfaction score bins by churn status\n",
        "plt.figure(figsize=(10,6))\n",
        "sns.countplot(x='Satisfaction Score Bins', hue='Churn Value', data=high_value)\n",
        "\n",
        "# Label and title\n",
        "plt.xlabel('Satisfaction Score Bins')\n",
        "plt.ylabel('Count')\n",
        "plt.title('Churn Status by Satisfaction Score')\n",
        "plt.show()\n"
      ]
    },
    {
      "cell_type": "code",
      "execution_count": null,
      "metadata": {
        "colab": {
          "base_uri": "https://localhost:8080/",
          "height": 506
        },
        "id": "Yn6T37YkarDE",
        "outputId": "3c76df4e-bb00-421d-e166-caa22896adb5"
      },
      "outputs": [],
      "source": [
        "# Plot distribution of customer segments in the high CLTV group\n",
        "plt.figure(figsize=(10,6))\n",
        "sns.displot(data=high_value, x='customer_segment', discrete=True)\n",
        "plt.xticks(rotation=90)\n",
        "plt.show()"
      ]
    },
    {
      "cell_type": "markdown",
      "metadata": {
        "id": "2Jr5EQglIBKV"
      },
      "source": [
        "**Observation**:\n",
        "\n",
        "The number of customers who churned within six months are significantly high in high CLTV group.\n",
        "\n",
        "This insight suggests that the company should focus on improving customer experience and providing more value to their high CLTV customers. They could conduct surveys or gather feedback to understand the specific reasons why these customers are churning and take actions to address those concerns. Additionally, the company could offer personalized rewards and promotions to these customers to make them feel valued and strengthen their attachment to the brand."
      ]
    },
    {
      "cell_type": "code",
      "execution_count": null,
      "metadata": {
        "id": "HCAb-JaiarDE"
      },
      "outputs": [],
      "source": [
        "# Let's see churned within six months\n",
        "high_value_churned = high_value[high_value['customer_segment'] == 'churned_within_6_months']"
      ]
    },
    {
      "cell_type": "code",
      "execution_count": null,
      "metadata": {
        "colab": {
          "base_uri": "https://localhost:8080/",
          "height": 468
        },
        "id": "laTk2BC7arDE",
        "outputId": "f2c939c5-7adc-400f-ffc5-329d62fa7a35"
      },
      "outputs": [],
      "source": [
        "# Most common reason\n",
        "save_point(\"fcTel4\")\n",
        "\n",
        "# count the number of customers for each churn reason\n",
        "hv_churn_reason_counts = high_value_churned['Churn Category'].value_counts()\n",
        "\n",
        "# plot the churn reason counts\n",
        "plt.figure(figsize=(16,6))\n",
        "sns.barplot(x=hv_churn_reason_counts.index, y=hv_churn_reason_counts)\n",
        "plt.title('Churn Reason for Customers with High CLTV')\n",
        "plt.xlabel('Churn Reason')\n",
        "plt.ylabel('Count')\n",
        "plt.xticks(rotation=90)\n",
        "plt.show()"
      ]
    },
    {
      "cell_type": "markdown",
      "metadata": {
        "id": "EVpRP0RvarDE"
      },
      "source": [
        "**Observation**\n",
        "\n",
        "As per the analysis of the retention strategy for high valued customers who churned within 6 months, the most common reason for their churn is support. This suggests that there might be some issues with the support services provided by the company which led to the customers leaving. The company needs to focus on improving their support services to retain such high valued customers."
      ]
    },
    {
      "cell_type": "code",
      "execution_count": null,
      "metadata": {
        "id": "cc67IG50KVGD"
      },
      "outputs": [],
      "source": [
        "low_cltv_df = customer_df[customer_df['CLTV_total_arpu'] > customer_df['CLTV_total_arpu'].quantile(0.25)]"
      ]
    },
    {
      "cell_type": "code",
      "execution_count": null,
      "metadata": {
        "colab": {
          "base_uri": "https://localhost:8080/",
          "height": 506
        },
        "id": "TYRLBNNHKzQr",
        "outputId": "0d934495-ac7c-42e6-85a1-fc4e3d59458c"
      },
      "outputs": [],
      "source": [
        "# plot distribution of customer segments in low cltv\n",
        "plt.figure(figsize=(10,6))\n",
        "sns.displot(data=low_cltv_df, x='customer_segment', discrete=True)\n",
        "plt.xticks(rotation=90)\n",
        "plt.show()"
      ]
    },
    {
      "cell_type": "markdown",
      "metadata": {
        "id": "LOo4fcerMn4U"
      },
      "source": [
        "There are a significant number of loyal and retained customers in the low CLTV group.\n",
        "\n",
        "The company could consider offering more targeted promotions and discounts to the low CLTV group to incentivize them to try additional services and gain high revenue from these loyal customers.\n",
        "\n",
        "The company could conduct surveys to better understand the needs and preferences of the low CLTV group and develop customized plans and services that meet their needs."
      ]
    },
    {
      "cell_type": "markdown",
      "metadata": {
        "id": "7oPLL3TiarDE"
      },
      "source": [
        "## **Try it out-I**\n",
        "\n",
        "**Offer Analysis:**\n",
        "\n",
        "* Analyze the effectiveness of different offers and promotions in terms of generating revenue and increasing CLTV.\n",
        "* Identify which offers are most popular among loyal customers and which ones lead to the highest CLTV.\n",
        "* Develop recommendations for future offers and promotions based on the analysis.\n",
        "\n",
        "\n",
        "**Potential New Customers:**\n",
        "\n",
        "* Analyze the behavior of new customers and identify which ones have the highest potential to become loyal customers.\n",
        "* Analyze data to encourage these customers to become loyal and increase their CLTV.\n",
        "\n",
        "**Retained Customers:**\n",
        "\n",
        "* Analyze the behavior of retained customers who have a high average CLTV but are not yet classified as loyal customers.\n",
        "* Develop strategies to convert these customers to loyal customers and maximize their CLTV."
      ]
    },
    {
      "cell_type": "markdown",
      "metadata": {
        "id": "75aUV1u7arDF"
      },
      "source": [
        "## **Project Summary**\n",
        "\n",
        "In this project, we analyzed a telecom company's customer data to calculate customer lifetime value (CLTV). We first conducted exploratory data analysis to understand the distribution of different features and identify any outliers. We then analyzed the ARPU (average revenue per user) for different customer segments based on their usage patterns and services subscribed.\n",
        "\n",
        "Our analysis suggested that customers who use 5G networks, use more data, have been with the company for a longer period of time, and have higher satisfaction scores tend to have a higher ARPU. We also found that the ARPU was higher for customers who churned compared to those who did not churn, indicating that retaining customers longer can lead to higher revenue.\n",
        "\n",
        "We calculated the CLTV for each customer based on their historical usage patterns and identified the top customer segments with the highest CLTV. This information can be used to design targeted marketing campaigns and personalized offers to retain high-value customers.\n",
        "\n",
        "We conducted further analysis to identify the most popular services among loyal customers and found that internet service, unlimited data, device protection plan, streaming TV, and streaming movies were the top five most popular services.\n",
        "\n",
        "We analyzed the reasons for customer churn among customers who left after completing 6 months with the company. The most common factors were support, dissatisfaction, and price. We recommended that the company focus on improving its support services, addressing customer dissatisfaction, and offering competitive prices to reduce customer churn.\n",
        "\n",
        "Overall, this project highlights the importance of analyzing customer data to identify potential opportunities for revenue growth and customer retention. By leveraging data analytics techniques and tools, companies can gain valuable insights into their customers' behavior and preferences, and make data-driven decisions to drive business growth.\n",
        "\n",
        "\n",
        "### **Future Scope**\n",
        "\n",
        "There is no one-size-fits-all approach to calculate CLTV as it can vary based on the business, available data, and the specific goals of the analysis. Therefore, it is important to explore different processing techniques and calculation approaches to identify the most suitable method for a particular business.\n",
        "\n",
        "Additionally, different variables can be included in the calculation to obtain a more accurate estimate of CLTV, such as customer demographics, transaction data, customer aquistion and customer behavior. It is also important to consider the impact of external factors such as market trends, economic conditions, and competition on CLTV.\n",
        "\n",
        "Hence, the future scope of the project could include experimenting with different approaches to calculate CLTV and incorporating additional variables to gain a more comprehensive understanding of customer behavior and their value to the business and developing a dashboard or visualization tool to track CLTV metrics and provide real-time insights to the management team. This can help the business make data-driven decisions and develop targeted strategies to maximize customer retention and revenue growth."
      ]
    },
    {
      "cell_type": "markdown",
      "metadata": {
        "id": "56QERpIOarDF"
      },
      "source": [
        "## **Interview Questions**\n",
        "\n",
        "* What is EDA, and why is it important in data analysis?\n",
        "\n",
        "* What is the Central Limit Theorem, and why is it important in statistical inference?\n",
        "\n",
        "* Can you explain the difference between correlation and causation?\n",
        "\n",
        "* What are the different types of data, and how do they affect the analysis approach?\n",
        "\n",
        "* How do you identify and handle outliers in a dataset?\n",
        "\n",
        "* What is the difference between hypothesis testing and confidence intervals?\n",
        "\n",
        "* What is a t-test and how is it used in hypothesis testing?\n",
        "\n",
        "* What is a pairplot and how can it be used in exploratory data analysis?\n",
        "\n",
        "* What is customer lifetime value (CLTV), and why is it important for a business?\n",
        "\n",
        "* How could this analysis be used to inform marketing and customer retention strategies?\n",
        "\n",
        "* How can you identify high-value customers using CLTV analysis, and what are some ways to keep these customers loyal?\n",
        "\n",
        "* How does CLTV relate to customer churn, and what are some strategies for reducing churn and increasing CLTV?\n",
        "\n",
        "* Can you walk me through the steps of calculating CLTV using the historical customer data?"
      ]
    },
    {
      "cell_type": "markdown",
      "metadata": {
        "id": "MnajHxNqarDF"
      },
      "source": [
        "## **Feedback**"
      ]
    },
    {
      "cell_type": "code",
      "execution_count": 8,
      "metadata": {
        "colab": {
          "base_uri": "https://localhost:8080/",
          "height": 1000
        },
        "id": "tcY6hOI_arDF",
        "outputId": "4fca16b9-18b5-40c4-e8d7-8ecccaf7a67f"
      },
      "outputs": [
        {
          "data": {
            "text/html": [
              "\n",
              "    <iframe \n",
              "\t    src=\"https://docs.google.com/forms/d/e/1FAIpQLScs70rjp77cH8TmVpH7jFhas7dmlCWSKEnNJnooa8meVUSnZA/viewform?usp=sf_link\" \n",
              "\t    width=\"100%\" \n",
              "\t    height=\"1200px\" \n",
              "\t    frameborder=\"0\" \n",
              "\t    marginheight=\"0\" \n",
              "\t    marginwidth=\"0\">\n",
              "\t    Loading...\n",
              "    </iframe>\n",
              "    "
            ],
            "text/plain": [
              "<IPython.core.display.HTML object>"
            ]
          },
          "execution_count": 8,
          "metadata": {},
          "output_type": "execute_result"
        }
      ],
      "source": [
        "feedback()"
      ]
    },
    {
      "cell_type": "code",
      "execution_count": null,
      "metadata": {},
      "outputs": [],
      "source": []
    }
  ],
  "metadata": {
    "colab": {
      "provenance": []
    },
    "kernelspec": {
      "display_name": "Python 3",
      "language": "python",
      "name": "python3"
    },
    "language_info": {
      "codemirror_mode": {
        "name": "ipython",
        "version": 3
      },
      "file_extension": ".py",
      "mimetype": "text/x-python",
      "name": "python",
      "nbconvert_exporter": "python",
      "pygments_lexer": "ipython3",
      "version": "3.8.10"
    }
  },
  "nbformat": 4,
  "nbformat_minor": 0
}
